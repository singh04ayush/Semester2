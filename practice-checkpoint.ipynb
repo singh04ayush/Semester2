{
 "cells": [
  {
   "cell_type": "code",
   "execution_count": 1,
   "id": "c909343b",
   "metadata": {},
   "outputs": [],
   "source": [
    "#this is a practice area"
   ]
  },
  {
   "cell_type": "code",
   "execution_count": 2,
   "id": "09c48875",
   "metadata": {},
   "outputs": [
    {
     "data": {
      "text/plain": [
       "'preparartion for\\n2nd sem mid \\nterm exam'"
      ]
     },
     "execution_count": 2,
     "metadata": {},
     "output_type": "execute_result"
    }
   ],
   "source": [
    "'''preparartion for\n",
    "2nd sem mid \n",
    "term exam'''"
   ]
  },
  {
   "cell_type": "code",
   "execution_count": 3,
   "id": "1a6cb780",
   "metadata": {},
   "outputs": [
    {
     "data": {
      "text/plain": [
       "'this is\\nalso a multi\\nline comment ok '"
      ]
     },
     "execution_count": 3,
     "metadata": {},
     "output_type": "execute_result"
    }
   ],
   "source": [
    "\"\"\"this is\n",
    "also a multi\n",
    "line comment ok \"\"\""
   ]
  },
  {
   "cell_type": "code",
   "execution_count": 4,
   "id": "918570b6",
   "metadata": {},
   "outputs": [
    {
     "name": "stdout",
     "output_type": "stream",
     "text": [
      "bool(x) -> bool\n",
      "\n",
      "Returns True when the argument x is true, False otherwise.\n",
      "The builtins True and False are the only two instances of the class bool.\n",
      "The class bool is a subclass of the class int, and cannot be subclassed.\n",
      "\n",
      "\n",
      "Prints the values to a stream, or to sys.stdout by default.\n",
      "\n",
      "  sep\n",
      "    string inserted between values, default a space.\n",
      "  end\n",
      "    string appended after the last value, default a newline.\n",
      "  file\n",
      "    a file-like object (stream); defaults to the current sys.stdout.\n",
      "  flush\n",
      "    whether to forcibly flush the stream.\n"
     ]
    }
   ],
   "source": [
    "# using .__doc__ function to know about builtin function in python like\n",
    "print( True.__doc__)\n",
    "print('\\n')\n",
    "print(print.__doc__)\n"
   ]
  },
  {
   "cell_type": "code",
   "execution_count": 5,
   "id": "f03839a6",
   "metadata": {},
   "outputs": [
    {
     "name": "stdout",
     "output_type": "stream",
     "text": [
      "0\n",
      "hi\n",
      "1\n",
      "hi\n",
      "Thank you\n"
     ]
    }
   ],
   "source": [
    "for i in range(2):      \n",
    "    print(i)  #indentation is used\n",
    "    print(\"hi\") #still inside indentation\n",
    "print('Thank you') #now it is not inside for loop"
   ]
  },
  {
   "cell_type": "code",
   "execution_count": 6,
   "id": "6c924849",
   "metadata": {},
   "outputs": [],
   "source": [
    "a=2  # A statement in python"
   ]
  },
  {
   "cell_type": "code",
   "execution_count": 13,
   "id": "f25a7783",
   "metadata": {},
   "outputs": [
    {
     "name": "stdout",
     "output_type": "stream",
     "text": [
      "25\n",
      "25\n"
     ]
    }
   ],
   "source": [
    "x=2+3+ \\\n",
    "5+6+4+3+ \\\n",
    "5-3\n",
    "print(x)\n",
    "\n",
    "#Another way\n",
    "\n",
    "y=(2+3+\n",
    "  5+6+4+3+\n",
    "  5-3)\n",
    "print(y)\n",
    "\n"
   ]
  },
  {
   "cell_type": "code",
   "execution_count": null,
   "id": "f20d3c63",
   "metadata": {},
   "outputs": [],
   "source": [
    "d=2+3+4+5+1;print(d);a=3+4-5;print(a);print('awesome') #multiple statement in single line"
   ]
  },
  {
   "cell_type": "code",
   "execution_count": null,
   "id": "c7ca1633",
   "metadata": {},
   "outputs": [],
   "source": [
    "#using id() fuction\n",
    "a=2\n",
    "b=4\n",
    "print(id(a))  # function id() retruns memory adress \n",
    "print(id(b))"
   ]
  },
  {
   "cell_type": "code",
   "execution_count": null,
   "id": "e99e0344",
   "metadata": {},
   "outputs": [],
   "source": [
    "r=300\n",
    "t=300\n",
    "print(id(r));print(id(t)) #same value but still stored in different locations"
   ]
  },
  {
   "cell_type": "code",
   "execution_count": null,
   "id": "1fe54a6f",
   "metadata": {},
   "outputs": [],
   "source": [
    "y=200\n",
    "u=y\n",
    "print(id(y))\n",
    "print(id(u)) #same adress becoz variable u points to the adress of y"
   ]
  },
  {
   "cell_type": "code",
   "execution_count": null,
   "id": "f8cae0fe",
   "metadata": {},
   "outputs": [],
   "source": [
    "# '\\n' is used to change the line\n",
    "# '\\t' is used to give a tab space between \n",
    "# example-\n",
    "print('twinkle twinkle little star\\n \\t\\t how are wonder what are you\\n \\t\\t up above so high\\nlike a dimonad in the sky ')"
   ]
  },
  {
   "cell_type": "code",
   "execution_count": null,
   "id": "71e3e1cd",
   "metadata": {},
   "outputs": [],
   "source": [
    "# let see for loop \n",
    "# i(variable->can by any other variable ) is used to iterate over the entire loop \n",
    "for i in range(2,13,4): # here in range it takes three arguments 1st-start value, 2nd-End value, 3rd-increment value\n",
    "    print(i)            # by default start value starts from 0 and by default increment value is 1"
   ]
  },
  {
   "cell_type": "code",
   "execution_count": 27,
   "id": "be8944fe",
   "metadata": {},
   "outputs": [
    {
     "ename": "AttributeError",
     "evalue": "'list' object has no attribute 'join'",
     "output_type": "error",
     "traceback": [
      "\u001b[1;31m---------------------------------------------------------------------------\u001b[0m",
      "\u001b[1;31mAttributeError\u001b[0m                            Traceback (most recent call last)",
      "Cell \u001b[1;32mIn[27], line 2\u001b[0m\n\u001b[0;32m      1\u001b[0m l\u001b[38;5;241m=\u001b[39m[\u001b[38;5;124m'\u001b[39m\u001b[38;5;124mayush\u001b[39m\u001b[38;5;124m'\u001b[39m,\u001b[38;5;124m'\u001b[39m\u001b[38;5;124mis\u001b[39m\u001b[38;5;124m'\u001b[39m,\u001b[38;5;124m'\u001b[39m\u001b[38;5;124mgood\u001b[39m\u001b[38;5;124m'\u001b[39m]\n\u001b[1;32m----> 2\u001b[0m \u001b[38;5;28mprint\u001b[39m(l\u001b[38;5;241m.\u001b[39mjoin(l))\n",
      "\u001b[1;31mAttributeError\u001b[0m: 'list' object has no attribute 'join'"
     ]
    }
   ],
   "source": [
    "l=['ayush','is','good']\n",
    "print(l.join(l))"
   ]
  },
  {
   "cell_type": "code",
   "execution_count": 30,
   "id": "4b397d4d",
   "metadata": {},
   "outputs": [
    {
     "ename": "NameError",
     "evalue": "name 'split' is not defined",
     "output_type": "error",
     "traceback": [
      "\u001b[1;31m---------------------------------------------------------------------------\u001b[0m",
      "\u001b[1;31mNameError\u001b[0m                                 Traceback (most recent call last)",
      "Cell \u001b[1;32mIn[30], line 1\u001b[0m\n\u001b[1;32m----> 1\u001b[0m \u001b[38;5;28mprint\u001b[39m(split\u001b[38;5;241m.\u001b[39m\u001b[38;5;18m__doc__\u001b[39m)\n",
      "\u001b[1;31mNameError\u001b[0m: name 'split' is not defined"
     ]
    }
   ],
   "source": [
    "print(split.__doc__)"
   ]
  },
  {
   "cell_type": "code",
   "execution_count": 35,
   "id": "806fc4ad",
   "metadata": {},
   "outputs": [
    {
     "ename": "SyntaxError",
     "evalue": "invalid syntax (1911404170.py, line 1)",
     "output_type": "error",
     "traceback": [
      "\u001b[1;36m  Cell \u001b[1;32mIn[35], line 1\u001b[1;36m\u001b[0m\n\u001b[1;33m    print(and.__doc__)\u001b[0m\n\u001b[1;37m          ^\u001b[0m\n\u001b[1;31mSyntaxError\u001b[0m\u001b[1;31m:\u001b[0m invalid syntax\n"
     ]
    }
   ],
   "source": [
    "print(and.__doc__)"
   ]
  },
  {
   "cell_type": "code",
   "execution_count": 61,
   "id": "ba1e5182",
   "metadata": {},
   "outputs": [
    {
     "name": "stdout",
     "output_type": "stream",
     "text": [
      "11.764705882352942\n"
     ]
    }
   ],
   "source": [
    "x=200/17\n",
    "print(x)"
   ]
  },
  {
   "cell_type": "code",
   "execution_count": 56,
   "id": "0ae46e12",
   "metadata": {},
   "outputs": [
    {
     "name": "stdout",
     "output_type": "stream",
     "text": [
      "AYUSHsingh\n",
      "H\n"
     ]
    }
   ],
   "source": []
  },
  {
   "cell_type": "code",
   "execution_count": 32,
   "id": "66ca3723",
   "metadata": {},
   "outputs": [
    {
     "name": "stdout",
     "output_type": "stream",
     "text": [
      "132 456 Wq  m e\n",
      "['132', '456', 'Wq', '', 'm', 'e']\n",
      "132 456 Wq  M E\n"
     ]
    }
   ],
   "source": [
    "#!/bin/python3\n",
    "\n",
    "import math\n",
    "import os\n",
    "import random\n",
    "import re\n",
    "import sys\n",
    "\n",
    "# Complete the solve function below.\n",
    "def solve(s):\n",
    "    l=[]\n",
    "    s=s.split(\" \")\n",
    "    print(s)\n",
    "    for i in s:\n",
    "        l.append(i.capitalize())\n",
    "    return ' '.join(l)  \n",
    "\n",
    "s=input()\n",
    "result=solve(s)\n",
    "print(result)"
   ]
  },
  {
   "cell_type": "code",
   "execution_count": 29,
   "id": "f808de99",
   "metadata": {},
   "outputs": [
    {
     "name": "stdout",
     "output_type": "stream",
     "text": [
      "<class 'list'>\n",
      "[3, 4, 5, 6]\n"
     ]
    }
   ],
   "source": [
    "s=[1,2,3,4]\n",
    "l=[]\n",
    "print(type(l))\n",
    "for i in s:\n",
    "    l.append(i+2)\n",
    "print(l)"
   ]
  },
  {
   "cell_type": "code",
   "execution_count": 24,
   "id": "2a294694",
   "metadata": {},
   "outputs": [
    {
     "name": "stdout",
     "output_type": "stream",
     "text": [
      "12abc\n"
     ]
    }
   ],
   "source": [
    "s='12abc'\n",
    "print(s.capitalize())"
   ]
  },
  {
   "cell_type": "code",
   "execution_count": 2,
   "id": "733e4034",
   "metadata": {},
   "outputs": [],
   "source": [
    "l=['a','y','u','s','h']\n",
    "i,j,k=0,1,2\n",
    "while k<len(l):\n",
    "    s=l[i]+l[j]+l[k]\n",
    "    i+=1\n",
    "    j+=1\n",
    "    k+=1"
   ]
  },
  {
   "cell_type": "code",
   "execution_count": 15,
   "id": "edfcd60d",
   "metadata": {},
   "outputs": [
    {
     "name": "stdout",
     "output_type": "stream",
     "text": [
      "2\n"
     ]
    }
   ],
   "source": [
    "string='ABCDCDC'\n",
    "sub_string='CDC'\n",
    "count=0\n",
    "j=len(sub_string)\n",
    "for i in range(0,len(string)):\n",
    "    s=string[i:j]\n",
    "    if s==sub_string:\n",
    "        count+=1\n",
    "    j+=1\n",
    "print(count)"
   ]
  },
  {
   "cell_type": "code",
   "execution_count": 5,
   "id": "e06a7a65",
   "metadata": {},
   "outputs": [
    {
     "name": "stdout",
     "output_type": "stream",
     "text": [
      "h\n"
     ]
    }
   ],
   "source": [
    "s='ayush'\n",
    "print(s[4:5])"
   ]
  },
  {
   "cell_type": "code",
   "execution_count": 19,
   "id": "abf13194",
   "metadata": {},
   "outputs": [
    {
     "name": "stdout",
     "output_type": "stream",
     "text": [
      "5\n",
      "1 2 2 3 3\n",
      "[1, 2, 2, 3, 3]\n",
      "Counter({2: 2, 3: 2, 1: 1})\n"
     ]
    }
   ],
   "source": [
    "from collections import Counter\n",
    "n = int(input())\n",
    "sl = list(map(int, input().split()))\n"
   ]
  },
  {
   "cell_type": "code",
   "execution_count": 18,
   "id": "a4dbe9af",
   "metadata": {},
   "outputs": [
    {
     "name": "stdout",
     "output_type": "stream",
     "text": [
      "Counter({4: 3, 1: 2, 3: 2, 2: 1, 5: 1, 6: 1, 7: 1})\n"
     ]
    }
   ],
   "source": [
    "from collections import Counter\n",
    "\n",
    "ml=[1,1,2,3,4,5,4,4,3,6,7]\n",
    "print(Counter(ml))"
   ]
  },
  {
   "cell_type": "code",
   "execution_count": 1,
   "id": "ca9ee37c",
   "metadata": {},
   "outputs": [
    {
     "name": "stdout",
     "output_type": "stream",
     "text": [
      "Enter the height of the pyramid: 5\n",
      "    0\n",
      "   012\n",
      "  01234\n",
      " 0123456\n",
      "012345678\n"
     ]
    }
   ],
   "source": [
    "def print_pyramid(height):\n",
    "    for i in range(height):\n",
    "        for j in range(height - i - 1):\n",
    "            print(\" \", end=\"\")\n",
    "        for k in range(2 * i + 1):\n",
    "            print(k % 10, end=\"\")\n",
    "        print()\n",
    "\n",
    "height = int(input(\"Enter the height of the pyramid: \"))\n",
    "print_pyramid(height)\n"
   ]
  },
  {
   "cell_type": "code",
   "execution_count": 9,
   "id": "5c44f4fe",
   "metadata": {},
   "outputs": [
    {
     "name": "stdout",
     "output_type": "stream",
     "text": [
      "Enter the numerical grade: 78\n",
      "The letter grade is:  C\n"
     ]
    }
   ],
   "source": [
    "def get_letter_grade(grade):\n",
    "    if 90 <= grade <= 100:\n",
    "        return 'A'\n",
    "    elif 80 <= grade < 90:\n",
    "        return 'B'\n",
    "    elif 70 <= grade < 80:\n",
    "        return 'C'\n",
    "    elif 60 <= grade < 70:\n",
    "        return 'D'\n",
    "    elif 0 <= grade < 60:\n",
    "        return 'F'\n",
    "    else:\n",
    "        return 'Invalid grade'\n",
    "\n",
    "# Get numerical grade from user\n",
    "num_grade = float(input(\"Enter the numerical grade: \"))\n",
    "\n",
    "# Get the corresponding letter grade\n",
    "letter_grade = get_letter_grade(num_grade)\n",
    "\n",
    "print(\"The letter grade is: \", letter_grade)\n"
   ]
  },
  {
   "cell_type": "code",
   "execution_count": null,
   "id": "527cb671",
   "metadata": {},
   "outputs": [],
   "source": []
  },
  {
   "cell_type": "code",
   "execution_count": 10,
   "id": "5a9d5f09",
   "metadata": {},
   "outputs": [
    {
     "name": "stdout",
     "output_type": "stream",
     "text": [
      "2\n",
      "3\n",
      "5\n",
      "7\n",
      "11\n",
      "13\n",
      "17\n",
      "19\n",
      "23\n",
      "29\n",
      "31\n",
      "37\n",
      "41\n",
      "43\n",
      "47\n",
      "53\n",
      "59\n",
      "61\n",
      "67\n",
      "71\n",
      "73\n",
      "79\n",
      "83\n",
      "89\n",
      "97\n"
     ]
    }
   ],
   "source": [
    "# Start from 2 because 1 is not a prime number\n",
    "for num in range(2, 101):\n",
    "    # Assume the number is prime until proven otherwise\n",
    "    is_prime = True\n",
    "\n",
    "    # Check if num can be divided evenly by any number up to the square root of num\n",
    "    for i in range(2, int(num**0.5) + 1):\n",
    "        if num % i == 0:\n",
    "            # If num can be evenly divided by i, it's not a prime number\n",
    "            is_prime = False\n",
    "            break  # No need to check further, exit the inner loop\n",
    "\n",
    "    # If num couldn't be divided evenly by any number up to its square root, it's a prime number\n",
    "    if is_prime:\n",
    "        print(num)\n"
   ]
  },
  {
   "cell_type": "code",
   "execution_count": 12,
   "id": "4d1f2df4",
   "metadata": {},
   "outputs": [
    {
     "name": "stdout",
     "output_type": "stream",
     "text": [
      "Enter a sentence: My name is Ayush Singh\n",
      "Number of vowels: 6\n",
      "Sentence with spaces replaced by underscores: My_name_is_Ayush_Singh\n"
     ]
    }
   ],
   "source": [
    "def process_sentence():\n",
    "    # Take input from the user\n",
    "    sentence = input(\"Enter a sentence: \")\n",
    "\n",
    "    # Initialize a counter for vowels\n",
    "    vowel_count = 0\n",
    "\n",
    "    # Define a string of vowels for comparison\n",
    "    vowels = \"aeiouAEIOU\"\n",
    "\n",
    "    # Iterate over each character in the sentence\n",
    "    for char in sentence:\n",
    "        # If the character is a vowel, increment the counter\n",
    "        if char in vowels:\n",
    "            vowel_count += 1\n",
    "\n",
    "    # Replace spaces with underscores\n",
    "    new_sentence = sentence.replace(' ', '_')\n",
    "\n",
    "    # Print the results\n",
    "    print(\"Number of vowels:\", vowel_count)\n",
    "    print(\"Sentence with spaces replaced by underscores:\", new_sentence)\n",
    "\n",
    "# Call the function\n",
    "process_sentence()\n"
   ]
  },
  {
   "cell_type": "code",
   "execution_count": 15,
   "id": "b1959cae",
   "metadata": {},
   "outputs": [
    {
     "name": "stdout",
     "output_type": "stream",
     "text": [
      "3.11.5 | packaged by Anaconda, Inc. | (main, Sep 11 2023, 13:26:23) [MSC v.1916 64 bit (AMD64)]\n",
      "sys.version_info(major=3, minor=11, micro=5, releaselevel='final', serial=0)\n"
     ]
    }
   ],
   "source": [
    "import sys\n",
    "\n",
    "# Print the Python version\n",
    "print(sys.version)\n",
    "print(sys.version_info)\n",
    "\n"
   ]
  },
  {
   "cell_type": "code",
   "execution_count": 18,
   "id": "112d1504",
   "metadata": {},
   "outputs": [
    {
     "name": "stdout",
     "output_type": "stream",
     "text": [
      "Enter the number of classes held: 50\n",
      "Enter the number of classes attended: 32\n",
      "Attendance percentage: 64.0%\n",
      "Do you have a medical cause? (Y/N): N\n",
      "The student is not allowed to sit the exam due to low attendance.\n"
     ]
    }
   ],
   "source": [
    "def check_exam_eligibility():\n",
    "    # Take input from the user\n",
    "    classes_held = int(input(\"Enter the number of classes held: \"))\n",
    "    classes_attended = int(input(\"Enter the number of classes attended: \"))\n",
    "\n",
    "    # Calculate the attendance percentage\n",
    "    attendance_percentage = (classes_attended / classes_held) * 100\n",
    "    print(f\"Attendance percentage: {attendance_percentage}%\")\n",
    "\n",
    "    # Check if the student is allowed to sit the exam\n",
    "    if attendance_percentage < 75:\n",
    "        # If attendance is less than 75%, ask if the student has a medical cause\n",
    "        medical_cause = input(\"Do you have a medical cause? (Y/N): \")\n",
    "        if medical_cause == 'Y':\n",
    "            print(\"The student is allowed to sit the exam due to a medical cause.\")\n",
    "        else:\n",
    "            print(\"The student is not allowed to sit the exam due to low attendance.\")\n",
    "    else:\n",
    "        print(\"The student is allowed to sit the exam.\")\n",
    "\n",
    "# Call the function\n",
    "check_exam_eligibility()\n"
   ]
  },
  {
   "cell_type": "code",
   "execution_count": 1,
   "id": "3476110f",
   "metadata": {},
   "outputs": [
    {
     "name": "stdout",
     "output_type": "stream",
     "text": [
      "Enter a string: my name is ayush\n",
      "hsuyasiemanym\n"
     ]
    }
   ],
   "source": [
    "# Define a function to reverse a string and remove spaces\n",
    "def reverse_string_and_remove_spaces(s):\n",
    "    # Remove spaces and reverse the string\n",
    "    reversed_string = s.replace(\" \", \"\")[::-1]\n",
    "    return reversed_string\n",
    "\n",
    "# Take a string as input\n",
    "s = input(\"Enter a string: \")\n",
    "\n",
    "# Call the function and print the result\n",
    "print(reverse_string_and_remove_spaces(s))\n"
   ]
  },
  {
   "cell_type": "code",
   "execution_count": 3,
   "id": "0bbeaa84",
   "metadata": {},
   "outputs": [
    {
     "name": "stdout",
     "output_type": "stream",
     "text": [
      "Tuple1: (9, 13, 26, 4), Length: 4\n",
      "Tuple2: (29, 47, 26, 2, 9, 17), Length: 6\n",
      "Concatenated Tuple: (9, 13, 26, 4, 29, 47, 26, 2, 9, 17), Length: 10\n"
     ]
    }
   ],
   "source": [
    "# Define two tuples\n",
    "tuple1 = (9,13,26,4)\n",
    "tuple2 = (29,47,26,2,9,17)\n",
    "\n",
    "# Concatenate the tuples\n",
    "concatenated_tuple = tuple1 + tuple2\n",
    "\n",
    "# Find the length of each tuple\n",
    "length_tuple1 = len(tuple1)\n",
    "length_tuple2 = len(tuple2)\n",
    "length_concatenated_tuple = len(concatenated_tuple)\n",
    "\n",
    "# Print the results\n",
    "print(f\"Tuple1: {tuple1}, Length: {length_tuple1}\")\n",
    "print(f\"Tuple2: {tuple2}, Length: {length_tuple2}\")\n",
    "print(f\"Concatenated Tuple: {concatenated_tuple}, Length: {length_concatenated_tuple}\")\n"
   ]
  },
  {
   "cell_type": "code",
   "execution_count": 6,
   "id": "08f85112",
   "metadata": {},
   "outputs": [
    {
     "name": "stdout",
     "output_type": "stream",
     "text": [
      "Union of the sets: {3, 4, 5, 6, 7, 9}\n",
      "Intersection of the sets: {9, 5}\n"
     ]
    }
   ],
   "source": [
    "# Define two sets\n",
    "set1 = {4,5,3,9}\n",
    "set2 = {9,5,6,7}\n",
    "\n",
    "# Calculate the union of the sets\n",
    "union_set = set1.union(set2)\n",
    "\n",
    "# Calculate the intersection of the sets\n",
    "intersection_set = set1.intersection(set2)\n",
    "\n",
    "# Print the results\n",
    "print(\"Union of the sets:\",union_set)\n",
    "print(\"Intersection of the sets:\",intersection_set)\n"
   ]
  },
  {
   "cell_type": "code",
   "execution_count": 9,
   "id": "e7a9a7ee",
   "metadata": {},
   "outputs": [
    {
     "name": "stdout",
     "output_type": "stream",
     "text": [
      "ym eman si hsuya hgnis\n",
      "my name is ayush singh\n"
     ]
    }
   ],
   "source": [
    "def reverse_words_in_string(s):\n",
    "    # Split the string into words\n",
    "    words = s.split()\n",
    "    \n",
    "    # Reverse each word and join them back into a string\n",
    "    reversed_string = ' '.join(word[::-1] for word in words)\n",
    "    \n",
    "    return reversed_string\n",
    "\n",
    "# Test the function with the string \"Hello World\"\n",
    "s = input()\n",
    "print(reverse_words_in_string(s))  # Output: \"olleH dlroW\"\n"
   ]
  },
  {
   "cell_type": "code",
   "execution_count": 17,
   "id": "4ffbe7db",
   "metadata": {},
   "outputs": [
    {
     "name": "stdout",
     "output_type": "stream",
     "text": [
      "Elements of first set:  \n",
      "Elements of second set: \n",
      "Set1 is a subset of Set2\n"
     ]
    }
   ],
   "source": [
    "# Take input for the first set\n",
    "set1 = set(input(\"Elements of first set: \").split())\n",
    "\n",
    "# Take input for the second set\n",
    "set2 = set(input(\"Elements of second set: \").split())\n",
    "\n",
    "# Check if set1 is a subset of set2\n",
    "if set1.issubset(set2):\n",
    "    print(\"Set1 is a subset of Set2\")\n",
    "# Check if set2 is a subset of set1\n",
    "elif set2.issubset(set1):\n",
    "    print(\"Set2 is a subset of Set1\")\n",
    "else:\n",
    "    print(\"Neither set is a subset of the other\")\n"
   ]
  },
  {
   "cell_type": "code",
   "execution_count": null,
   "id": "520fc7d9",
   "metadata": {},
   "outputs": [],
   "source": []
  },
  {
   "cell_type": "code",
   "execution_count": 18,
   "id": "b524cfc7",
   "metadata": {},
   "outputs": [
    {
     "name": "stdout",
     "output_type": "stream",
     "text": [
      "\n",
      "1. Add a student\n",
      "2. Update a student's grade\n",
      "3. Calculate average grade\n",
      "4. Exit\n",
      "Enter your choice: 3\n",
      "Average grade: 0\n",
      "\n",
      "1. Add a student\n",
      "2. Update a student's grade\n",
      "3. Calculate average grade\n",
      "4. Exit\n",
      "Enter your choice: 1\n",
      "Enter the student's name: ayush\n",
      "Enter the student's grade: 98\n",
      "\n",
      "1. Add a student\n",
      "2. Update a student's grade\n",
      "3. Calculate average grade\n",
      "4. Exit\n",
      "Enter your choice: 1\n",
      "Enter the student's name: aftab\n",
      "Enter the student's grade: 97\n",
      "\n",
      "1. Add a student\n",
      "2. Update a student's grade\n",
      "3. Calculate average grade\n",
      "4. Exit\n",
      "Enter your choice: 3\n",
      "Average grade: 97.5\n",
      "\n",
      "1. Add a student\n",
      "2. Update a student's grade\n",
      "3. Calculate average grade\n",
      "4. Exit\n",
      "Enter your choice: 4\n"
     ]
    }
   ],
   "source": [
    "# Initialize an empty dictionary to store the student data\n",
    "student_database = {}\n",
    "\n",
    "# Function to add a new student\n",
    "def add_student():\n",
    "    name = input(\"Enter the student's name: \")\n",
    "    grade = float(input(\"Enter the student's grade: \"))\n",
    "    student_database[name] = grade\n",
    "\n",
    "# Function to update a student's grade\n",
    "def update_grade():\n",
    "    name = input(\"Enter the student's name: \")\n",
    "    if name in student_database:\n",
    "        grade = float(input(\"Enter the new grade: \"))\n",
    "        student_database[name] = grade\n",
    "    else:\n",
    "        print(f\"Student {name} does not exist in the database.\")\n",
    "\n",
    "# Function to calculate the average grade\n",
    "def average_grade():\n",
    "    if student_database:\n",
    "        return sum(student_database.values()) / len(student_database)\n",
    "    else:\n",
    "        return 0\n",
    "\n",
    "# User interface\n",
    "while True:\n",
    "    print(\"\\n1. Add a student\")\n",
    "    print(\"2. Update a student's grade\")\n",
    "    print(\"3. Calculate average grade\")\n",
    "    print(\"4. Exit\")\n",
    "    choice = int(input(\"Enter your choice: \"))\n",
    "\n",
    "    if choice == 1:\n",
    "        add_student()\n",
    "    elif choice == 2:\n",
    "        update_grade()\n",
    "    elif choice == 3:\n",
    "        print(f\"Average grade: {average_grade()}\")\n",
    "    elif choice == 4:\n",
    "        break\n",
    "    else:\n",
    "        print(\"Invalid choice. Please enter a number between 1 and 4.\")\n"
   ]
  },
  {
   "cell_type": "code",
   "execution_count": 22,
   "id": "7e0fbde0",
   "metadata": {},
   "outputs": [
    {
     "name": "stdout",
     "output_type": "stream",
     "text": [
      "('ayush', 20, 98)\n",
      "('jitu', 19, 95)\n",
      "('rahul', 17, 88)\n",
      "('aftab', 22, 85)\n",
      "('adil', 18, 80)\n"
     ]
    }
   ],
   "source": [
    "# Initialize a tuple of tuples, where each inner tuple represents a student\n",
    "students = (\n",
    "    (\"ayush\", 20, 98),\n",
    "    (\"aftab\", 22, 85),\n",
    "    (\"adil\", 18, 80),\n",
    "    (\"jitu\", 19, 95),\n",
    "    (\"rahul\", 17, 88)\n",
    ")\n",
    "\n",
    "# Sort the students based on their grades in descending order\n",
    "s = sorted(students, key=lambda x: x[2], reverse=True)\n",
    "\n",
    "# Print the sorted list of students\n",
    "for i in s:\n",
    "    print(i)\n"
   ]
  },
  {
   "cell_type": "code",
   "execution_count": 26,
   "id": "e10da8c0",
   "metadata": {},
   "outputs": [
    {
     "name": "stdout",
     "output_type": "stream",
     "text": [
      "hello python you are awesome\n",
      "['nohtyp', 'emosewa']\n"
     ]
    }
   ],
   "source": [
    "def process_strings(strings):\n",
    "    # Filter the list to include only strings with more than five characters\n",
    "    filtered_strings = [s for s in strings if len(s) > 5]\n",
    "\n",
    "    # Reverse the characters in each string\n",
    "    reversed_strings = [s[::-1] for s in filtered_strings]\n",
    "\n",
    "    return reversed_strings\n",
    "strings = input()\n",
    "strings=strings.split()\n",
    "print(process_strings(strings))  # Output: ['nohtyP', 'emosewa']\n"
   ]
  },
  {
   "cell_type": "code",
   "execution_count": 32,
   "id": "4a8de8fe",
   "metadata": {},
   "outputs": [
    {
     "name": "stdout",
     "output_type": "stream",
     "text": [
      "[('adil', 95), ('jitu', 90), ('rahul', 88), ('aftab', 85), ('ayush', 80)]\n"
     ]
    }
   ],
   "source": [
    "# Initialize a dictionary with student names as keys and grades as values\n",
    "students = {\n",
    "    \"aftab\": 85,\n",
    "    \"jitu\": 90,\n",
    "    \"ayush\": 80,\n",
    "    \"adil\": 95,\n",
    "    \"rahul\": 88\n",
    "}\n",
    "\n",
    "# Sort the dictionary based on grades in descending order\n",
    "s = sorted(students.items(), key=lambda x: x[1], reverse=True)\n",
    "print(s)\n",
    "\n",
    "# # Print the sorted results\n",
    "# for student, grade in sorted_students:\n",
    "#     print(f\"{student}: {grade}\")\n"
   ]
  },
  {
   "cell_type": "code",
   "execution_count": 36,
   "id": "b36bc34c",
   "metadata": {},
   "outputs": [
    {
     "name": "stdout",
     "output_type": "stream",
     "text": [
      "[('Pride', 'Jane', 1813), ('fire', 'Scott', 1925), ('ash', 'Orwell', 1949), ('Kill', 'Lee', 1960)]\n"
     ]
    }
   ],
   "source": [
    "def sort_books_by_year(books):\n",
    "    # Sort the books based on the publication year in ascending order\n",
    "    s_b = sorted(books, key=lambda x: x[2])\n",
    "    return s_b\n",
    "\n",
    "books = [\n",
    "    (\"fire\", \"Scott\", 1925),\n",
    "    (\"Kill\", \"Lee\", 1960),\n",
    "    (\"ash\", \"Orwell\", 1949),\n",
    "    (\"Pride\", \"Jane\", 1813)\n",
    "]\n",
    "\n",
    "print(sort_books_by_year(books))\n"
   ]
  },
  {
   "cell_type": "code",
   "execution_count": null,
   "id": "16a73af5",
   "metadata": {},
   "outputs": [],
   "source": []
  }
 ],
 "metadata": {
  "kernelspec": {
   "display_name": "Python 3 (ipykernel)",
   "language": "python",
   "name": "python3"
  },
  "language_info": {
   "codemirror_mode": {
    "name": "ipython",
    "version": 3
   },
   "file_extension": ".py",
   "mimetype": "text/x-python",
   "name": "python",
   "nbconvert_exporter": "python",
   "pygments_lexer": "ipython3",
   "version": "3.11.5"
  }
 },
 "nbformat": 4,
 "nbformat_minor": 5
}
