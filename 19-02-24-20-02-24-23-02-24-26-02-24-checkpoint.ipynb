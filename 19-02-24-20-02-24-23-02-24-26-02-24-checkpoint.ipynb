{
 "cells": [
  {
   "cell_type": "code",
   "execution_count": 1,
   "id": "62fa428e",
   "metadata": {},
   "outputs": [
    {
     "data": {
      "text/plain": [
       "['ArithmeticError',\n",
       " 'AssertionError',\n",
       " 'AttributeError',\n",
       " 'BaseException',\n",
       " 'BaseExceptionGroup',\n",
       " 'BlockingIOError',\n",
       " 'BrokenPipeError',\n",
       " 'BufferError',\n",
       " 'BytesWarning',\n",
       " 'ChildProcessError',\n",
       " 'ConnectionAbortedError',\n",
       " 'ConnectionError',\n",
       " 'ConnectionRefusedError',\n",
       " 'ConnectionResetError',\n",
       " 'DeprecationWarning',\n",
       " 'EOFError',\n",
       " 'Ellipsis',\n",
       " 'EncodingWarning',\n",
       " 'EnvironmentError',\n",
       " 'Exception',\n",
       " 'ExceptionGroup',\n",
       " 'False',\n",
       " 'FileExistsError',\n",
       " 'FileNotFoundError',\n",
       " 'FloatingPointError',\n",
       " 'FutureWarning',\n",
       " 'GeneratorExit',\n",
       " 'IOError',\n",
       " 'ImportError',\n",
       " 'ImportWarning',\n",
       " 'IndentationError',\n",
       " 'IndexError',\n",
       " 'InterruptedError',\n",
       " 'IsADirectoryError',\n",
       " 'KeyError',\n",
       " 'KeyboardInterrupt',\n",
       " 'LookupError',\n",
       " 'MemoryError',\n",
       " 'ModuleNotFoundError',\n",
       " 'NameError',\n",
       " 'None',\n",
       " 'NotADirectoryError',\n",
       " 'NotImplemented',\n",
       " 'NotImplementedError',\n",
       " 'OSError',\n",
       " 'OverflowError',\n",
       " 'PendingDeprecationWarning',\n",
       " 'PermissionError',\n",
       " 'ProcessLookupError',\n",
       " 'RecursionError',\n",
       " 'ReferenceError',\n",
       " 'ResourceWarning',\n",
       " 'RuntimeError',\n",
       " 'RuntimeWarning',\n",
       " 'StopAsyncIteration',\n",
       " 'StopIteration',\n",
       " 'SyntaxError',\n",
       " 'SyntaxWarning',\n",
       " 'SystemError',\n",
       " 'SystemExit',\n",
       " 'TabError',\n",
       " 'TimeoutError',\n",
       " 'True',\n",
       " 'TypeError',\n",
       " 'UnboundLocalError',\n",
       " 'UnicodeDecodeError',\n",
       " 'UnicodeEncodeError',\n",
       " 'UnicodeError',\n",
       " 'UnicodeTranslateError',\n",
       " 'UnicodeWarning',\n",
       " 'UserWarning',\n",
       " 'ValueError',\n",
       " 'Warning',\n",
       " 'WindowsError',\n",
       " 'ZeroDivisionError',\n",
       " '__IPYTHON__',\n",
       " '__build_class__',\n",
       " '__debug__',\n",
       " '__doc__',\n",
       " '__import__',\n",
       " '__loader__',\n",
       " '__name__',\n",
       " '__package__',\n",
       " '__spec__',\n",
       " 'abs',\n",
       " 'aiter',\n",
       " 'all',\n",
       " 'anext',\n",
       " 'any',\n",
       " 'ascii',\n",
       " 'bin',\n",
       " 'bool',\n",
       " 'breakpoint',\n",
       " 'bytearray',\n",
       " 'bytes',\n",
       " 'callable',\n",
       " 'chr',\n",
       " 'classmethod',\n",
       " 'compile',\n",
       " 'complex',\n",
       " 'copyright',\n",
       " 'credits',\n",
       " 'delattr',\n",
       " 'dict',\n",
       " 'dir',\n",
       " 'display',\n",
       " 'divmod',\n",
       " 'enumerate',\n",
       " 'eval',\n",
       " 'exec',\n",
       " 'execfile',\n",
       " 'filter',\n",
       " 'float',\n",
       " 'format',\n",
       " 'frozenset',\n",
       " 'get_ipython',\n",
       " 'getattr',\n",
       " 'globals',\n",
       " 'hasattr',\n",
       " 'hash',\n",
       " 'help',\n",
       " 'hex',\n",
       " 'id',\n",
       " 'input',\n",
       " 'int',\n",
       " 'isinstance',\n",
       " 'issubclass',\n",
       " 'iter',\n",
       " 'len',\n",
       " 'license',\n",
       " 'list',\n",
       " 'locals',\n",
       " 'map',\n",
       " 'max',\n",
       " 'memoryview',\n",
       " 'min',\n",
       " 'next',\n",
       " 'object',\n",
       " 'oct',\n",
       " 'open',\n",
       " 'ord',\n",
       " 'pow',\n",
       " 'print',\n",
       " 'property',\n",
       " 'range',\n",
       " 'repr',\n",
       " 'reversed',\n",
       " 'round',\n",
       " 'runfile',\n",
       " 'set',\n",
       " 'setattr',\n",
       " 'slice',\n",
       " 'sorted',\n",
       " 'staticmethod',\n",
       " 'str',\n",
       " 'sum',\n",
       " 'super',\n",
       " 'tuple',\n",
       " 'type',\n",
       " 'vars',\n",
       " 'zip']"
      ]
     },
     "execution_count": 1,
     "metadata": {},
     "output_type": "execute_result"
    }
   ],
   "source": [
    "import builtins\n",
    "dir(builtins)"
   ]
  },
  {
   "cell_type": "code",
   "execution_count": 2,
   "id": "a4c0a53d",
   "metadata": {},
   "outputs": [
    {
     "data": {
      "text/plain": [
       "65"
      ]
     },
     "execution_count": 2,
     "metadata": {},
     "output_type": "execute_result"
    }
   ],
   "source": [
    "ord('A')"
   ]
  },
  {
   "cell_type": "code",
   "execution_count": 3,
   "id": "4b8dc60f",
   "metadata": {},
   "outputs": [
    {
     "data": {
      "text/plain": [
       "'A'"
      ]
     },
     "execution_count": 3,
     "metadata": {},
     "output_type": "execute_result"
    }
   ],
   "source": [
    "chr(65)"
   ]
  },
  {
   "cell_type": "code",
   "execution_count": 5,
   "id": "1ba8f29d",
   "metadata": {},
   "outputs": [],
   "source": [
    "# repittion\n",
    "# readilbilty\n",
    "# resuability\n",
    "# mangeable"
   ]
  },
  {
   "cell_type": "code",
   "execution_count": 6,
   "id": "e05c8668",
   "metadata": {},
   "outputs": [
    {
     "name": "stdout",
     "output_type": "stream",
     "text": [
      "Remove and return an arbitrary set element.\n",
      "Raises KeyError if the set is empty.\n"
     ]
    }
   ],
   "source": [
    "print(set.pop.__doc__)"
   ]
  },
  {
   "cell_type": "code",
   "execution_count": 7,
   "id": "6e2b20af",
   "metadata": {},
   "outputs": [],
   "source": [
    "# a,b,c=f(n)"
   ]
  },
  {
   "cell_type": "code",
   "execution_count": 17,
   "id": "4f83b281",
   "metadata": {},
   "outputs": [
    {
     "name": "stdout",
     "output_type": "stream",
     "text": [
      "Enter first range:5\n",
      "enetr second range7\n",
      "Sum is->18\n"
     ]
    }
   ],
   "source": [
    "def summ_is(a,b):\n",
    "    \"\"\"To print the sum of the all values in the given range inclusively\"\"\"\n",
    "    sum=0\n",
    "    for i in range(a,b+1):\n",
    "        sum+=i\n",
    "    return sum    \n",
    "a=int(input(\"Enter first range:\"))\n",
    "b=int(input(\"enetr second range\"))\n",
    "print(f\"Sum is->{summ_is(a,b)}\")"
   ]
  },
  {
   "cell_type": "code",
   "execution_count": 20,
   "id": "b98f0abe",
   "metadata": {},
   "outputs": [
    {
     "name": "stdout",
     "output_type": "stream",
     "text": [
      "Enter the term: 100\n",
      "0 1 1 2 3 5 8 13 21 34 55 89 \n"
     ]
    }
   ],
   "source": [
    "def fibo(x):\n",
    "    \"\"\"function to generate fibonacci series upto n \"\"\"\n",
    "    a, b= 0, 1\n",
    "    while a<x:\n",
    "        print(a,end=' ')\n",
    "        a,b=b,a+b\n",
    "    print()\n",
    "x=int(input(\"Enter the term: \"))\n",
    "fibo(x)"
   ]
  },
  {
   "cell_type": "code",
   "execution_count": 8,
   "id": "28d2b16d",
   "metadata": {},
   "outputs": [
    {
     "name": "stdout",
     "output_type": "stream",
     "text": [
      "<class 'tuple'>\n",
      "15\n"
     ]
    }
   ],
   "source": [
    "#fuction with ability to perform multiple arguments\n",
    "#function with arbitary no. of arguments, *args\n",
    "#write a program to find the sum of few numbers entered as input by the user\n",
    "def sumall(*num):\n",
    "    print(type(num))\n",
    "    s=0\n",
    "    for i in num:\n",
    "        s+=i\n",
    "    return s\n",
    "print(sumall(2,3,4,5,1))\n",
    "\n",
    "#return sum(num)"
   ]
  },
  {
   "cell_type": "code",
   "execution_count": 25,
   "id": "c0da6fdd",
   "metadata": {},
   "outputs": [],
   "source": [
    "#The pass statement\n",
    "def multi(n):\n",
    "    pass"
   ]
  },
  {
   "cell_type": "code",
   "execution_count": 26,
   "id": "1547a3ab",
   "metadata": {},
   "outputs": [
    {
     "name": "stdout",
     "output_type": "stream",
     "text": [
      "4\n",
      "9\n"
     ]
    }
   ],
   "source": [
    "#function with default arguments\n",
    "def summ(a=4,b=5):\n",
    "    return(a+b)\n",
    "#calling fuction\n",
    "print(summ(2,2))\n",
    "print(summ())"
   ]
  },
  {
   "cell_type": "code",
   "execution_count": 30,
   "id": "0b93a975",
   "metadata": {},
   "outputs": [
    {
     "name": "stdout",
     "output_type": "stream",
     "text": [
      "ayush has mobile number 123\n"
     ]
    }
   ],
   "source": [
    "#functions with keyword arguments\n",
    "def display(name, mobile):\n",
    "    print(name, \"has mobile number\", mobile)\n",
    "\n",
    "display(mobile=123,name='ayush')"
   ]
  },
  {
   "cell_type": "code",
   "execution_count": 32,
   "id": "186bfd62",
   "metadata": {},
   "outputs": [
    {
     "name": "stdout",
     "output_type": "stream",
     "text": [
      "outside fuction 4\n",
      "inside function 7\n",
      "outside function 4\n"
     ]
    }
   ],
   "source": [
    "#scope of variable in python\n",
    "var1=4\n",
    "def func():\n",
    "    var1=7\n",
    "    print(\"inside function \"+str(var1))\n",
    "    \n",
    "print(\"outside fuction \"+str(var1))\n",
    "func()\n",
    "print(\"outside function \"+str(var1))"
   ]
  },
  {
   "cell_type": "code",
   "execution_count": 33,
   "id": "2e757f84",
   "metadata": {},
   "outputs": [
    {
     "name": "stdout",
     "output_type": "stream",
     "text": [
      "outside fuction 4\n",
      "inside function 7\n",
      "outside function 7\n"
     ]
    }
   ],
   "source": [
    "# keyword for using global value in a fuction is-> global\n",
    "var1=4\n",
    "def func():\n",
    "    global var1\n",
    "    var1=7\n",
    "    print(\"inside function \"+str(var1))\n",
    "    \n",
    "print(\"outside fuction \"+str(var1))\n",
    "func()\n",
    "print(\"outside function \"+str(var1))"
   ]
  },
  {
   "cell_type": "code",
   "execution_count": 36,
   "id": "79902561",
   "metadata": {},
   "outputs": [
    {
     "name": "stdout",
     "output_type": "stream",
     "text": [
      "3\n"
     ]
    }
   ],
   "source": [
    "def arm(n):\n",
    "    x=len(str(n))\n",
    "    \n",
    "    \n",
    "arm(345)"
   ]
  },
  {
   "cell_type": "code",
   "execution_count": 1,
   "id": "3bb94d67",
   "metadata": {},
   "outputs": [],
   "source": [
    "                                      #23-02-24"
   ]
  },
  {
   "cell_type": "code",
   "execution_count": 6,
   "id": "a19b6d17",
   "metadata": {},
   "outputs": [
    {
     "name": "stdout",
     "output_type": "stream",
     "text": [
      "153\n",
      "it is armstrong\n"
     ]
    }
   ],
   "source": [
    "x=int(input())\n",
    "s=str(x)\n",
    "summ=0\n",
    "for i in list(s):\n",
    "    summ=summ+(int(i)**3)\n",
    "if summ==x:\n",
    "    print('it is armstrong')\n",
    "else:\n",
    "    print('not armstrong')"
   ]
  },
  {
   "cell_type": "code",
   "execution_count": 7,
   "id": "a792abce",
   "metadata": {},
   "outputs": [],
   "source": [
    "#returning mutiple values from fuction\n",
    "#return a+b,b*a\n",
    "#sum,multi=\n"
   ]
  },
  {
   "cell_type": "code",
   "execution_count": 12,
   "id": "ecf238fb",
   "metadata": {},
   "outputs": [
    {
     "name": "stdout",
     "output_type": "stream",
     "text": [
      "120\n"
     ]
    }
   ],
   "source": [
    "#recurrsion\n",
    "#it takes more space than iterative approach\n",
    "def fact(no):\n",
    "    if no==1:\n",
    "        return 1\n",
    "    return no*fact(no-1)\n",
    "\n",
    "no=5\n",
    "print(fact(5))"
   ]
  },
  {
   "cell_type": "code",
   "execution_count": 1,
   "id": "576b2351",
   "metadata": {},
   "outputs": [],
   "source": [
    "                                             #26-02-24"
   ]
  },
  {
   "cell_type": "code",
   "execution_count": null,
   "id": "d2ecdecf",
   "metadata": {},
   "outputs": [],
   "source": [
    "#keyword argument"
   ]
  },
  {
   "cell_type": "code",
   "execution_count": 13,
   "id": "e67aa84d",
   "metadata": {},
   "outputs": [
    {
     "name": "stdout",
     "output_type": "stream",
     "text": [
      "{'name': 'ayush'}\n"
     ]
    }
   ],
   "source": [
    "def all(**kwargus):\n",
    "    print(kwargus)\n",
    "    \n",
    "greet=(all(name='ayush'))"
   ]
  },
  {
   "cell_type": "code",
   "execution_count": 14,
   "id": "ebae1313",
   "metadata": {},
   "outputs": [
    {
     "name": "stdout",
     "output_type": "stream",
     "text": [
      "120\n"
     ]
    }
   ],
   "source": [
    "#recurrsion\n",
    "#it takes more space than iterative approach\n",
    "def fact(no):\n",
    "    if no==1:\n",
    "        return 1\n",
    "    return no*fact(no-1)\n",
    "\n",
    "no=5\n",
    "print(fact(5))"
   ]
  },
  {
   "cell_type": "code",
   "execution_count": 20,
   "id": "493ef724",
   "metadata": {},
   "outputs": [
    {
     "name": "stdout",
     "output_type": "stream",
     "text": [
      "12\n"
     ]
    }
   ],
   "source": [
    "def sdigit(n):\n",
    "    if n==0:\n",
    "           return 0\n",
    "    else:\n",
    "        return n%10+sdigit(n//10)\n",
    "    \n",
    "print(sdigit(147))\n",
    "    \n",
    "    "
   ]
  },
  {
   "cell_type": "markdown",
   "id": "7e5313bc",
   "metadata": {},
   "source": [
    "write a program to find out nth term of fibonaacic series using recursion"
   ]
  },
  {
   "cell_type": "code",
   "execution_count": 26,
   "id": "631fb98e",
   "metadata": {},
   "outputs": [
    {
     "name": "stdout",
     "output_type": "stream",
     "text": [
      "8\n"
     ]
    }
   ],
   "source": [
    "def fibo(n):\n",
    "    if n<=1:\n",
    "        return 0\n",
    "    elif n==2:\n",
    "        return 1\n",
    "    else:\n",
    "        return fibo(n-2)+fibo(n-1)\n",
    "    \n",
    "    \n",
    "    \n",
    "print(fibo(7))"
   ]
  },
  {
   "cell_type": "markdown",
   "id": "adb00559",
   "metadata": {},
   "source": [
    "write a program to reverse a given string using recurssion"
   ]
  },
  {
   "cell_type": "code",
   "execution_count": 35,
   "id": "217ca05d",
   "metadata": {},
   "outputs": [
    {
     "ename": "RecursionError",
     "evalue": "maximum recursion depth exceeded",
     "output_type": "error",
     "traceback": [
      "\u001b[1;31m---------------------------------------------------------------------------\u001b[0m",
      "\u001b[1;31mRecursionError\u001b[0m                            Traceback (most recent call last)",
      "Cell \u001b[1;32mIn[35], line 8\u001b[0m\n\u001b[0;32m      5\u001b[0m         \u001b[38;5;28;01mreturn\u001b[39;00m rstr(s[\u001b[38;5;241m1\u001b[39m:]\u001b[38;5;241m+\u001b[39ms[\u001b[38;5;241m0\u001b[39m])\n\u001b[0;32m      7\u001b[0m s\u001b[38;5;241m=\u001b[39m\u001b[38;5;124m'\u001b[39m\u001b[38;5;124mayush\u001b[39m\u001b[38;5;124m'\u001b[39m\n\u001b[1;32m----> 8\u001b[0m \u001b[38;5;28mprint\u001b[39m(rstr(s))\n",
      "Cell \u001b[1;32mIn[35], line 5\u001b[0m, in \u001b[0;36mrstr\u001b[1;34m(s)\u001b[0m\n\u001b[0;32m      3\u001b[0m     \u001b[38;5;28;01mreturn\u001b[39;00m s\n\u001b[0;32m      4\u001b[0m \u001b[38;5;28;01melse\u001b[39;00m:\n\u001b[1;32m----> 5\u001b[0m     \u001b[38;5;28;01mreturn\u001b[39;00m rstr(s[\u001b[38;5;241m1\u001b[39m:]\u001b[38;5;241m+\u001b[39ms[\u001b[38;5;241m0\u001b[39m])\n",
      "Cell \u001b[1;32mIn[35], line 5\u001b[0m, in \u001b[0;36mrstr\u001b[1;34m(s)\u001b[0m\n\u001b[0;32m      3\u001b[0m     \u001b[38;5;28;01mreturn\u001b[39;00m s\n\u001b[0;32m      4\u001b[0m \u001b[38;5;28;01melse\u001b[39;00m:\n\u001b[1;32m----> 5\u001b[0m     \u001b[38;5;28;01mreturn\u001b[39;00m rstr(s[\u001b[38;5;241m1\u001b[39m:]\u001b[38;5;241m+\u001b[39ms[\u001b[38;5;241m0\u001b[39m])\n",
      "    \u001b[1;31m[... skipping similar frames: rstr at line 5 (2971 times)]\u001b[0m\n",
      "Cell \u001b[1;32mIn[35], line 5\u001b[0m, in \u001b[0;36mrstr\u001b[1;34m(s)\u001b[0m\n\u001b[0;32m      3\u001b[0m     \u001b[38;5;28;01mreturn\u001b[39;00m s\n\u001b[0;32m      4\u001b[0m \u001b[38;5;28;01melse\u001b[39;00m:\n\u001b[1;32m----> 5\u001b[0m     \u001b[38;5;28;01mreturn\u001b[39;00m rstr(s[\u001b[38;5;241m1\u001b[39m:]\u001b[38;5;241m+\u001b[39ms[\u001b[38;5;241m0\u001b[39m])\n",
      "\u001b[1;31mRecursionError\u001b[0m: maximum recursion depth exceeded"
     ]
    }
   ],
   "source": [
    "def rstr(s):\n",
    "    if len(s)==1:\n",
    "        return s\n",
    "    else:\n",
    "        return rstr(s[1:]+s[0])\n",
    "    \n",
    "s='ayush'\n",
    "print(rstr(s))"
   ]
  },
  {
   "cell_type": "code",
   "execution_count": 42,
   "id": "47211171",
   "metadata": {},
   "outputs": [
    {
     "name": "stdout",
     "output_type": "stream",
     "text": [
      "['__breakpointhook__', '__displayhook__', '__doc__', '__excepthook__', '__interactivehook__', '__loader__', '__name__', '__package__', '__spec__', '__stderr__', '__stdin__', '__stdout__', '__unraisablehook__', '_base_executable', '_clear_type_cache', '_current_exceptions', '_current_frames', '_debugmallocstats', '_enablelegacywindowsfsencoding', '_framework', '_getframe', '_getquickenedcount', '_git', '_home', '_stdlib_dir', '_vpath', '_xoptions', 'addaudithook', 'api_version', 'argv', 'audit', 'base_exec_prefix', 'base_prefix', 'breakpointhook', 'builtin_module_names', 'byteorder', 'call_tracing', 'copyright', 'displayhook', 'dllhandle', 'dont_write_bytecode', 'exc_info', 'excepthook', 'exception', 'exec_prefix', 'executable', 'exit', 'flags', 'float_info', 'float_repr_style', 'get_asyncgen_hooks', 'get_coroutine_origin_tracking_depth', 'get_int_max_str_digits', 'getallocatedblocks', 'getdefaultencoding', 'getfilesystemencodeerrors', 'getfilesystemencoding', 'getprofile', 'getrecursionlimit', 'getrefcount', 'getsizeof', 'getswitchinterval', 'gettrace', 'getwindowsversion', 'hash_info', 'hexversion', 'implementation', 'int_info', 'intern', 'is_finalizing', 'last_traceback', 'last_type', 'last_value', 'maxsize', 'maxunicode', 'meta_path', 'modules', 'orig_argv', 'path', 'path_hooks', 'path_importer_cache', 'platform', 'platlibdir', 'prefix', 'ps1', 'ps2', 'ps3', 'pycache_prefix', 'set_asyncgen_hooks', 'set_coroutine_origin_tracking_depth', 'set_int_max_str_digits', 'setprofile', 'setrecursionlimit', 'setswitchinterval', 'settrace', 'stderr', 'stdin', 'stdlib_module_names', 'stdout', 'thread_info', 'unraisablehook', 'version', 'version_info', 'warnoptions', 'winver']\n"
     ]
    }
   ],
   "source": [
    "print(dir(sys)) "
   ]
  },
  {
   "cell_type": "code",
   "execution_count": 45,
   "id": "f4727bd7",
   "metadata": {},
   "outputs": [
    {
     "name": "stdout",
     "output_type": "stream",
     "text": [
      "3000\n"
     ]
    }
   ],
   "source": [
    "import sys\n",
    "print(sys.getrecursionlimit())\n",
    "\n",
    "# these are known as anonymous function. Such function are not bound to any name\n",
    "# syntax-> lambda arguments :expression\n",
    "# the expression is executed and the value is returned"
   ]
  },
  {
   "cell_type": "code",
   "execution_count": 39,
   "id": "d13c0e02",
   "metadata": {},
   "outputs": [],
   "source": [
    "# use:-\n",
    "    \n",
    "#     1)the fliter() function takes in a function and a list as arguments\n",
    "#     2)function is called with all items in list and a new list is returned which contais items for which the function evalutes to true"
   ]
  },
  {
   "cell_type": "code",
   "execution_count": 41,
   "id": "1aaf9e1d",
   "metadata": {},
   "outputs": [
    {
     "name": "stdout",
     "output_type": "stream",
     "text": [
      "[2, 4, 6, 8, 12]\n"
     ]
    }
   ],
   "source": [
    "l=[1,2,3,4,5,6,7,8,9,12]\n",
    "nl=list(filter(lambda x: (x%2==0),l))\n",
    "print(nl)"
   ]
  },
  {
   "cell_type": "code",
   "execution_count": 46,
   "id": "769af385",
   "metadata": {},
   "outputs": [
    {
     "name": "stdout",
     "output_type": "stream",
     "text": [
      "[8, 27, 64, 343, 125, 216, 512]\n"
     ]
    }
   ],
   "source": [
    "l=[2,3,4,7,5,6,8]\n",
    "nl=list(map(lambda x: (x**3),l))\n",
    "print(nl)"
   ]
  },
  {
   "cell_type": "code",
   "execution_count": 48,
   "id": "88aaf0e9",
   "metadata": {},
   "outputs": [
    {
     "name": "stdout",
     "output_type": "stream",
     "text": [
      "[93.2, 132.8, 74.606, 114.206, 93.2, 212.0]\n"
     ]
    }
   ],
   "source": [
    "c=[34,56,23.67,45.67,34,100]\n",
    "f=list(map(lambda x: ((x*(9/5))+32),c))\n",
    "print(f)\n"
   ]
  },
  {
   "cell_type": "code",
   "execution_count": 64,
   "id": "e49ab45f",
   "metadata": {},
   "outputs": [
    {
     "name": "stdout",
     "output_type": "stream",
     "text": [
      "15\n"
     ]
    }
   ],
   "source": [
    "#reduce()\n",
    "\n",
    "from functools import reduce\n",
    "sequence=[1,2,3,4,5]\n",
    "product=reduce(lambda x, y: x+y,sequence)\n",
    "print(product)"
   ]
  },
  {
   "cell_type": "code",
   "execution_count": 1,
   "id": "1c8ac819",
   "metadata": {},
   "outputs": [
    {
     "name": "stdout",
     "output_type": "stream",
     "text": [
      "87\n"
     ]
    }
   ],
   "source": [
    "from functools import reduce\n",
    "sequence=[34,56,23,67,45,77,87,34]\n",
    "print(reduce(lambda x, y:x if x>y else y,sequence))\n"
   ]
  },
  {
   "cell_type": "code",
   "execution_count": null,
   "id": "4423b487",
   "metadata": {},
   "outputs": [],
   "source": []
  },
  {
   "cell_type": "code",
   "execution_count": 12,
   "id": "18fed29c",
   "metadata": {},
   "outputs": [
    {
     "ename": "SyntaxError",
     "evalue": "incomplete input (3270918841.py, line 23)",
     "output_type": "error",
     "traceback": [
      "\u001b[1;36m  Cell \u001b[1;32mIn[12], line 23\u001b[1;36m\u001b[0m\n\u001b[1;33m    #     print(reduce(lambda x,y:x+y,i))\u001b[0m\n\u001b[1;37m                                         ^\u001b[0m\n\u001b[1;31mSyntaxError\u001b[0m\u001b[1;31m:\u001b[0m incomplete input\n"
     ]
    }
   ],
   "source": [
    "# Enter your code here. Read input from STDIN. Print output to STDOUT\n",
    "\n",
    "from itertools import permutations \n",
    "from functools import reduce\n",
    "# Take the input as a single line\n",
    "input_line = input()\n",
    "\n",
    "# Split the input line into a list of substrings\n",
    "input_list = input_line.split()\n",
    "\n",
    "# Assign the substrings to variables\n",
    "string_part = input_list[0]\n",
    "integer_part = int(input_list[1])\n",
    "\n",
    "# Now you have 'HACK' in string_part and 2 in integer_part\n",
    "f=list(permutations(string_part,integer_part))\n",
    "l=[]\n",
    "for i in f:\n",
    "    k=list(i)\n",
    "    l.append(k)\n",
    "l.sort()\n",
    "for J in range(0,len(l)):\n",
    "#     print(reduce(lambda x,y:x+y,i))"
   ]
  },
  {
   "cell_type": "code",
   "execution_count": 15,
   "id": "f470f81b",
   "metadata": {},
   "outputs": [
    {
     "name": "stdout",
     "output_type": "stream",
     "text": [
      "HACK 2\n",
      "AC\n",
      "AH\n",
      "AK\n",
      "CA\n",
      "CH\n",
      "CK\n",
      "HA\n",
      "HC\n",
      "HK\n",
      "KA\n",
      "KC\n",
      "KH\n"
     ]
    }
   ],
   "source": [
    "# Enter your code here. Read input from STDIN. Print output to STDOUT\n",
    "\n",
    "from itertools import permutations \n",
    "from functools import reduce\n",
    "# Take the input as a single line\n",
    "input_line = input()\n",
    "\n",
    "# Split the input line into a list of substrings\n",
    "input_list = input_line.split()\n",
    "\n",
    "# Assign the substrings to variables\n",
    "string_part = input_list[0]\n",
    "integer_part = int(input_list[1])\n",
    "\n",
    "# Now you have 'HACK' in string_part and 2 in integer_part\n",
    "f=list(permutations(string_part,integer_part))\n",
    "l=[]\n",
    "for i in f:\n",
    "    k=list(i)\n",
    "    l.append(k)\n",
    "l.sort()\n",
    "for j in l:\n",
    "    print(reduce(lambda x,y:x+y,j))"
   ]
  },
  {
   "cell_type": "code",
   "execution_count": null,
   "id": "d1b01b6c",
   "metadata": {},
   "outputs": [],
   "source": []
  }
 ],
 "metadata": {
  "kernelspec": {
   "display_name": "Python 3 (ipykernel)",
   "language": "python",
   "name": "python3"
  },
  "language_info": {
   "codemirror_mode": {
    "name": "ipython",
    "version": 3
   },
   "file_extension": ".py",
   "mimetype": "text/x-python",
   "name": "python",
   "nbconvert_exporter": "python",
   "pygments_lexer": "ipython3",
   "version": "3.11.5"
  }
 },
 "nbformat": 4,
 "nbformat_minor": 5
}
