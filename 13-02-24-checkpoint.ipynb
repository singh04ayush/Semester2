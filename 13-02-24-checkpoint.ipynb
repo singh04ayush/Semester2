{
 "cells": [
  {
   "cell_type": "code",
   "execution_count": 28,
   "id": "3a80980b",
   "metadata": {},
   "outputs": [
    {
     "name": "stdout",
     "output_type": "stream",
     "text": [
      "61.0\n"
     ]
    }
   ],
   "source": [
    "l=[2,{2,4,5},3,(2,4,6),\"248\",{4,6},2+4j,7+4j]\n",
    "total=0\n",
    "s=[]\n",
    "x=[]\n",
    "n=[]\n",
    "for i in l:\n",
    "    if type(i)==int:\n",
    "        total+=i\n",
    "    elif type(i)==tuple:\n",
    "        x=list(i)\n",
    "        for j in x:\n",
    "            total+=j\n",
    "    elif type(i)==str:\n",
    "        n=list(i)\n",
    "        for j in n:\n",
    "            total+=int(j)\n",
    "    elif type(i)==complex:\n",
    "        total+=i.real\n",
    "    elif type(i)==set:\n",
    "        s=list(i)\n",
    "        for j in s:\n",
    "            total+=j\n",
    "print(total)\n",
    "        "
   ]
  },
  {
   "cell_type": "code",
   "execution_count": null,
   "id": "4beec973",
   "metadata": {},
   "outputs": [],
   "source": []
  },
  {
   "cell_type": "code",
   "execution_count": 51,
   "id": "e70e383a",
   "metadata": {},
   "outputs": [
    {
     "name": "stdout",
     "output_type": "stream",
     "text": [
      "[('dog', 5), ('the', 3), ('sit', 2), ('ate', 1), ('quick', 1), ('food', 1), ('and', 1), ('at', 1), ('angry', 1), ('cat', 1)]\n"
     ]
    }
   ],
   "source": [
    "#EXP-14 1st code\n",
    "s=\"the dog quick dog and the dog ate sit cat the dog angry sit dog at food\"\n",
    "s=s.split()\n",
    "d=[(i,s.count(i)) for i in set(s)]\n",
    "d=sorted(d,key=lambda x:x[1],reverse=True)\n",
    "print(d)"
   ]
  },
  {
   "cell_type": "code",
   "execution_count": 2,
   "id": "826a1240",
   "metadata": {},
   "outputs": [
    {
     "name": "stdout",
     "output_type": "stream",
     "text": [
      "[('dog', 5), ('the', 3), ('sit', 2), ('cat', 1), ('ate', 1), ('quick', 1)]\n"
     ]
    }
   ],
   "source": [
    "#EXP-14 another way \n",
    "#using dictionary\n",
    "s=\"The dog quick Dog The dog ate sit cat the dog sit dog\"\n",
    "s=s.lower()\n",
    "s=s.split()\n",
    "d={i:s.count(i) for i in set(s)}\n",
    "d=sorted(d.items(),key=lambda x:x[1],reverse=True)\n",
    "print(d)"
   ]
  },
  {
   "cell_type": "code",
   "execution_count": null,
   "id": "2f6bfccf",
   "metadata": {},
   "outputs": [],
   "source": []
  },
  {
   "cell_type": "code",
   "execution_count": 1,
   "id": "db30fbb6",
   "metadata": {},
   "outputs": [
    {
     "name": "stdout",
     "output_type": "stream",
     "text": [
      "Samsung j2 2016\n",
      "Xiomi note3 2018\n",
      "Apple XE 2019\n"
     ]
    }
   ],
   "source": [
    "#EXP-15\n",
    "l=[{'make':'Samsung','model':'j2','year':2016},{'make':'Xiomi','model':'note3','year':2018},{'make':'Apple','model':'XE','year':2019}]\n",
    "s=sorted(l,key=lambda x: x['make'],reverse=False)\n",
    "for i in l:\n",
    "    print(i[\"make\"],i[\"model\"],i[\"year\"])"
   ]
  },
  {
   "cell_type": "code",
   "execution_count": 4,
   "id": "80f00402",
   "metadata": {},
   "outputs": [
    {
     "name": "stdout",
     "output_type": "stream",
     "text": [
      "Enter the filter value: 85\n",
      "adil -> 98\n",
      "ayu -> 91\n",
      "ritu -> 88\n"
     ]
    }
   ],
   "source": [
    "#EXP-16\n",
    "stud={\"rohan\":85,\"adil\":98,\"ayu\":91,\"ritu\":88,\"palak\":70} #DO ADD MORE IN THIS \n",
    "n=int(input(\"Enter the filter value: \"))\n",
    "for (key,value) in stud.items():\n",
    "    if value>n:\n",
    "        print(key,\"->\",value)"
   ]
  },
  {
   "cell_type": "code",
   "execution_count": 3,
   "id": "496c455c",
   "metadata": {},
   "outputs": [
    {
     "name": "stdout",
     "output_type": "stream",
     "text": [
      "<class 'int'>\n",
      "<class 'float'>\n"
     ]
    }
   ],
   "source": [
    "x=3\n",
    "v=9.342\n",
    "print(type(x))\n",
    "print(type(v))"
   ]
  },
  {
   "cell_type": "code",
   "execution_count": 13,
   "id": "b413e1b1",
   "metadata": {},
   "outputs": [
    {
     "name": "stdout",
     "output_type": "stream",
     "text": [
      "10\n"
     ]
    }
   ],
   "source": [
    "a=1\n",
    "b=100\n",
    "count=0\n",
    "for i in range(a,b+1):\n",
    "    x=i**0.5\n",
    "    if int(x)==i**0.5 :\n",
    "        count+=1\n",
    "print(count)"
   ]
  },
  {
   "cell_type": "code",
   "execution_count": null,
   "id": "957c6e2f",
   "metadata": {},
   "outputs": [],
   "source": []
  },
  {
   "cell_type": "code",
   "execution_count": 25,
   "id": "058a043a",
   "metadata": {},
   "outputs": [
    {
     "name": "stdout",
     "output_type": "stream",
     "text": [
      "3\n"
     ]
    }
   ],
   "source": [
    "count=0\n",
    "s=str(n)\n",
    "l=list(s)\n",
    "for i in l:\n",
    "    if int(i)==0:\n",
    "        continue\n",
    "    else:\n",
    "        if n%int(i)==0:\n",
    "            count+=1\n",
    "print(count)"
   ]
  },
  {
   "cell_type": "code",
   "execution_count": 6,
   "id": "22395398",
   "metadata": {},
   "outputs": [
    {
     "name": "stdout",
     "output_type": "stream",
     "text": [
      "True\n",
      "False\n"
     ]
    }
   ],
   "source": [
    "import math\n",
    "\n",
    "def is_perfect_square(n):\n",
    "    sqrt_n = math.sqrt(n)\n",
    "    return sqrt_n == int(sqrt_n)\n",
    "\n",
    "# Test the function\n",
    "print(is_perfect_square(16))  # Output: True\n",
    "print(is_perfect_square(20))  # Output: False\n"
   ]
  },
  {
   "cell_type": "code",
   "execution_count": 5,
   "id": "22d0ad31",
   "metadata": {},
   "outputs": [
    {
     "name": "stdout",
     "output_type": "stream",
     "text": [
      "2\n"
     ]
    }
   ],
   "source": [
    "import math\n",
    "a=2\n",
    "b=9\n",
    "count=0\n",
    "for i in range(a,b+1):\n",
    "    sqrt_n = math.sqrt(i)\n",
    "    if sqrt_n == int(sqrt_n):\n",
    "        count+=1\n",
    "print(count)"
   ]
  },
  {
   "cell_type": "code",
   "execution_count": 19,
   "id": "4a148078",
   "metadata": {},
   "outputs": [
    {
     "name": "stdout",
     "output_type": "stream",
     "text": [
      "113\n",
      "131\n",
      "137\n",
      "139\n",
      "151\n"
     ]
    }
   ],
   "source": [
    "def is_prime(n):\n",
    "    for j in range(2,int(n**0.5)+1):\n",
    "        if n%j==0:\n",
    "            return  False\n",
    "    return True\n",
    "\n",
    "countall=5\n",
    "count=0\n",
    "a=100\n",
    "b=500\n",
    "for i in range(a,b+1):\n",
    "    if is_prime(i):\n",
    "        x=int(i/10)\n",
    "        y=x%10\n",
    "        if y%2!=0:\n",
    "            print(i)\n",
    "            count+=1\n",
    "    if countall==count:\n",
    "        break\n",
    "\n",
    "\n",
    "\n",
    "        "
   ]
  },
  {
   "cell_type": "code",
   "execution_count": 1,
   "id": "cc589db3",
   "metadata": {},
   "outputs": [
    {
     "name": "stdout",
     "output_type": "stream",
     "text": [
      "enter no. of lines: 10\n",
      "\n",
      "\n",
      "1 \n",
      "\n",
      "2 3 \n",
      "\n",
      "4 5 6 \n",
      "\n",
      "7 8 9 10 \n",
      "\n",
      "11 12 13 14 15 \n",
      "\n",
      "16 17 18 19 20 21 \n",
      "\n",
      "22 23 24 25 26 27 28 \n",
      "\n",
      "29 30 31 32 33 34 35 36 \n",
      "\n",
      "37 38 39 40 41 42 43 44 45 \n",
      "\n",
      "46 47 48 49 50 51 52 53 54 55 \n",
      "\n"
     ]
    }
   ],
   "source": [
    "x=int(input(\"enter no. of lines: \"))\n",
    "a=1\n",
    "for i in range(0,x+1):\n",
    "    for j in range(0,i):\n",
    "        print(a,end=\" \")\n",
    "        a+=1\n",
    "    print(\"\\n\")"
   ]
  },
  {
   "cell_type": "code",
   "execution_count": null,
   "id": "7763c30a",
   "metadata": {},
   "outputs": [],
   "source": [
    "x=int(input(\"Enter a odd value: \"))\n",
    "a=\"*\"\n",
    "for i in range(0,x):\n",
    "    for j in range(i,x):\n",
    "        x-=2\n",
    "        if j==int(x/2):\n",
    "            x+=2\n",
    "            print(a,end=\" \")"
   ]
  },
  {
   "cell_type": "code",
   "execution_count": 33,
   "id": "af927155",
   "metadata": {},
   "outputs": [
    {
     "name": "stdout",
     "output_type": "stream",
     "text": [
      "*****\n",
      " *** \n",
      "  *  \n",
      " *** \n",
      "*****\n"
     ]
    }
   ],
   "source": [
    "print(\"*****\")\n",
    "print(\" *** \")\n",
    "print(\"  *  \")\n",
    "print(\" *** \")\n",
    "print(\"*****\")"
   ]
  },
  {
   "cell_type": "code",
   "execution_count": null,
   "id": "e204bc31",
   "metadata": {},
   "outputs": [],
   "source": []
  },
  {
   "cell_type": "code",
   "execution_count": null,
   "id": "1010515c",
   "metadata": {},
   "outputs": [],
   "source": []
  }
 ],
 "metadata": {
  "kernelspec": {
   "display_name": "Python 3 (ipykernel)",
   "language": "python",
   "name": "python3"
  },
  "language_info": {
   "codemirror_mode": {
    "name": "ipython",
    "version": 3
   },
   "file_extension": ".py",
   "mimetype": "text/x-python",
   "name": "python",
   "nbconvert_exporter": "python",
   "pygments_lexer": "ipython3",
   "version": "3.11.5"
  }
 },
 "nbformat": 4,
 "nbformat_minor": 5
}
