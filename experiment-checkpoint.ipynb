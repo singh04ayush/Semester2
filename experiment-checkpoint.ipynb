{
 "cells": [
  {
   "cell_type": "code",
   "execution_count": null,
   "id": "b670fcd6",
   "metadata": {},
   "outputs": [],
   "source": [
    "#Q3\n",
    "import math\n",
    "x1 = float(input(\"Enter x1: \"))\n",
    "y1 = float(input(\"Enter y1: \"))\n",
    "x2 = float(input(\"Enter x2: \"))\n",
    "y2 = float(input(\"Enter y2: \"))\n",
    "distance = math.sqrt((x2 - x1)**2 + (y2 - y1)**2)\n",
    "print(f\"The distance between points({x1},{y1})and({x2},{y2})is{distance}\")\n"
   ]
  },
  {
   "cell_type": "code",
   "execution_count": null,
   "id": "a51b62c0",
   "metadata": {},
   "outputs": [],
   "source": [
    "#Q4\n",
    "# Function to calculate area\n",
    "def calculate_area(a, b, c):\n",
    "    # calculate the semi-perimeter\n",
    "    s = (a + b + c) / 2\n",
    "    # calculate the area\n",
    "    area = (s*(s-a)*(s-b)*(s-c)) ** 0.5\n",
    "    return area\n",
    "\n",
    "# Accepting sides from the user\n",
    "a = float(input(\"Enter side a: \"))\n",
    "b = float(input(\"Enter side b: \"))\n",
    "c = float(input(\"Enter side c: \"))\n",
    "\n",
    "# Calculating area\n",
    "area = calculate_area(a, b, c)\n",
    "\n",
    "print(f\"The area of the triangle is {area} square units\")\n"
   ]
  },
  {
   "cell_type": "code",
   "execution_count": 16,
   "id": "589f12a6",
   "metadata": {},
   "outputs": [
    {
     "name": "stdout",
     "output_type": "stream",
     "text": [
      "Amount in multiple of 100's: -34\n",
      "Invalid Input\n"
     ]
    }
   ],
   "source": [
    "x = int(input(\"Amount in multiple of 100's: \"))\n",
    "if(x<100 or x%100!=0):\n",
    "    print('Invalid Input')\n",
    "else:\n",
    "    N= [2000, 500, 200, 100]\n",
    "    NC = [0, 0, 0, 0]\n",
    "    print (\"Currency Count -> \")\n",
    "    for i, j in zip(N, range(4)):\n",
    "        if x >= i:\n",
    "            NC[j] = x // i\n",
    "            x = x - NC[j] * i\n",
    "            print (i ,\" : \", NC[j])"
   ]
  },
  {
   "cell_type": "code",
   "execution_count": 35,
   "id": "6cedcb3c",
   "metadata": {},
   "outputs": [
    {
     "name": "stdout",
     "output_type": "stream",
     "text": [
      "Enter number in 0/1's: 001000\n",
      "YES POSSIBLE\n",
      "Flliped 1 at 2th index to 0: 000000\n"
     ]
    }
   ],
   "source": [
    "A=input(\"Enter number in 0/1's: \")\n",
    "zeros = A.count('0')\n",
    "ones = A.count('1')\n",
    "if zeros==1 or ones==1:\n",
    "    print('YES POSSIBLE')\n",
    "else:\n",
    "    print('NOT POSSIBLE')\n",
    "if zeros == 1:\n",
    "    position = A.index('0') \n",
    "    A = A.replace('0', '1')\n",
    "    print(f'Flipped 0 at {position}th index to 1: {A}')\n",
    "elif ones == 1:\n",
    "    position = A.index('1')\n",
    "    A = A.replace('1', '0')\n",
    "    print(f'Flliped 1 at {position}th index to 0: {A}')\n",
    "\n",
    "\n",
    "\n",
    "\n",
    "\n"
   ]
  },
  {
   "cell_type": "code",
   "execution_count": 50,
   "id": "1516fe1d",
   "metadata": {},
   "outputs": [
    {
     "name": "stdout",
     "output_type": "stream",
     "text": [
      "Enter a year: 64\n",
      "64 is a leap year.\n"
     ]
    }
   ],
   "source": [
    "def is_leap_year(year):\n",
    "    if year % 4 == 0:\n",
    "        if year % 100 == 0:\n",
    "            if year % 400 == 0:\n",
    "                return True\n",
    "            else:\n",
    "                return False\n",
    "        else:\n",
    "            return True\n",
    "    else:\n",
    "        return False\n",
    "year = int(input(\"Enter a year: \"))\n",
    "if is_leap_year(year):\n",
    "    print(f\"{year} is a leap year.\")\n",
    "else:\n",
    "    print(f\"{year} is not a leap year.\")\n"
   ]
  },
  {
   "cell_type": "code",
   "execution_count": 44,
   "id": "2bdbf703",
   "metadata": {},
   "outputs": [
    {
     "name": "stdout",
     "output_type": "stream",
     "text": [
      "Enter a number: 2\n",
      "False\n"
     ]
    }
   ],
   "source": [
    "def is_prime(n):\n",
    "    if n <= 1:\n",
    "        return False\n",
    "    if n <= 3:\n",
    "        return True\n",
    "    if n % 2 == 0 or n % 3 == 0:\n",
    "        return False\n",
    "    i = 5\n",
    "    while i * i <= n:\n",
    "        if n % i == 0 or n % (i + 2) == 0:\n",
    "            return False\n",
    "        i += 6\n",
    "    return True\n",
    "\n",
    "def primepartition(m):\n",
    "    if m < 2:\n",
    "        return False\n",
    "    for i in range(2, m):\n",
    "        if is_prime(i) and is_prime(m - i):\n",
    "            return True\n",
    "    return False\n",
    "\n",
    "# Accepting number from the user\n",
    "m = int(input(\"Enter a number: \"))\n",
    "\n",
    "# Checking if the number can be partitioned as primes\n",
    "if primepartition(m):\n",
    "    print(\"True\")\n",
    "else:\n",
    "    print(\"False\")"
   ]
  },
  {
   "cell_type": "code",
   "execution_count": 67,
   "id": "bc92aa7f",
   "metadata": {},
   "outputs": [
    {
     "name": "stdout",
     "output_type": "stream",
     "text": [
      "Enter your marks: 53\n",
      "Fail\n"
     ]
    }
   ],
   "source": [
    "M = float(input(\"Enter your marks: \"))\n",
    "if M < 0 or M > 100:\n",
    "    print('Invalid Input')\n",
    "elif M >= 90:\n",
    "    print(\"Grade is A\")\n",
    "elif M >= 80:\n",
    "    print(\"Grade is B\")\n",
    "elif M >= 70:\n",
    "    print(\"Grade is C\")\n",
    "elif M >= 60:\n",
    "    print(\"Grade is D\")\n",
    "else:\n",
    "    print(\"Fail\")\n"
   ]
  },
  {
   "cell_type": "code",
   "execution_count": 68,
   "id": "fd0ed201",
   "metadata": {},
   "outputs": [
    {
     "name": "stdout",
     "output_type": "stream",
     "text": [
      "Number of elements in the list: 6\n",
      "After removing 3rd element: [12, 23, 56, 67, 24]\n",
      "After adding 33 at index position 0: [33, 12, 23, 56, 67, 24]\n",
      "After adding 99 at the end: [33, 12, 23, 56, 67, 24, 99]\n",
      "Index of 67 in the list: 4\n"
     ]
    }
   ],
   "source": [
    "# Initialize the list\n",
    "L = [12, 23, 23, 56, 67, 24]\n",
    "\n",
    "# a. Find number of elements in the list\n",
    "print(f\"Number of elements in the list: {len(L)}\")\n",
    "\n",
    "# b. Remove 3rd element\n",
    "del L[2]\n",
    "print(f\"After removing 3rd element: {L}\")\n",
    "\n",
    "# c. Add 33 at index position 0\n",
    "L.insert(0, 33)\n",
    "print(f\"After adding 33 at index position 0: {L}\")\n",
    "\n",
    "# d. Add 99 at the end of the list\n",
    "L.append(99)\n",
    "print(f\"After adding 99 at the end: {L}\")\n",
    "\n",
    "# e. Search for '67' in the list and if it exists print its index position.\n",
    "if 67 in L:\n",
    "    print(f\"Index of 67 in the list: {L.index(67)}\")\n",
    "else:\n",
    "    print(\"67 is not in the list.\")\n"
   ]
  },
  {
   "cell_type": "code",
   "execution_count": 35,
   "id": "2352b5a2",
   "metadata": {},
   "outputs": [
    {
     "name": "stdout",
     "output_type": "stream",
     "text": [
      "pen: 3\n",
      "band: 1\n",
      "ball: 2\n",
      "eraser: 1\n",
      "Pencil: 1\n",
      "The most occurring item is 'pen'\n"
     ]
    }
   ],
   "source": [
    "# Initialize the list\n",
    "L = [\"pen\", \"ball\", \"eraser\", \"pen\", \"band\", \"pen\", \"Pencil\", \"ball\"]\n",
    "\n",
    "# Print the count of each item\n",
    "for item in set(L):\n",
    "    print(f\"{item}: {L.count(item)}\")\n",
    "\n",
    "# Find and print the most occurring item\n",
    "print(f\"The most occurring item is '{max(L, key=L.count)}'\")\n"
   ]
  },
  {
   "cell_type": "code",
   "execution_count": 36,
   "id": "d476a71b",
   "metadata": {},
   "outputs": [
    {
     "name": "stdout",
     "output_type": "stream",
     "text": [
      "('item2', '15.10')\n",
      "('item1', '17.20')\n",
      "('item3', '24.5')\n",
      "The second costliest item is item1\n"
     ]
    }
   ],
   "source": [
    "# Initialize the list\n",
    "price = [('item1', '17.20'), ('item2', '15.10'), ('item3', '24.5')]\n",
    "\n",
    "# Convert the prices to float and sort the list based on price\n",
    "price.sort(key=lambda x: float(x[1]))\n",
    "\n",
    "# Print the sorted list\n",
    "for item in price:\n",
    "    print(item)\n",
    "\n",
    "# Print the second costliest item\n",
    "print(f\"The second costliest item is {price[-2][0]}\")\n"
   ]
  },
  {
   "cell_type": "code",
   "execution_count": 76,
   "id": "d242d504",
   "metadata": {},
   "outputs": [
    {
     "name": "stdout",
     "output_type": "stream",
     "text": [
      "((1, 3, 5, 7), (2, 4, 6, 8))\n"
     ]
    }
   ],
   "source": [
    "data = [(1,2), (3,4), (5,6), (7,8)]\n",
    "tuple(zip(*data))\n",
    "print(separate_coordinates(data))"
   ]
  },
  {
   "cell_type": "code",
   "execution_count": null,
   "id": "76b447f5",
   "metadata": {},
   "outputs": [],
   "source": [
    "def is_prime(n):\n",
    "    if n <= 1:\n",
    "        return False\n",
    "    if n <= 3:\n",
    "        return True\n",
    "    if n % 2 == 0 or n % 3 == 0:\n",
    "        return False\n",
    "    i = 5\n",
    "    while i * i <= n:\n",
    "        if n % i == 0 or n % (i + 2) == 0:\n",
    "            return False\n",
    "        i += 6\n",
    "    return True\n",
    "\n",
    "def prime_partition(m):\n",
    "    if m > 2 and m % 2 == 0:\n",
    "        return True\n",
    "    for i in range(2, m):\n",
    "        if is_prime(i) and is_prime(m - i):\n",
    "            return True\n",
    "    return False\n",
    "\n",
    "# Test the function\n",
    "m = int(input(\"Enter a positive integer: \"))\n",
    "if prime_partition(m):\n",
    "    print(f\"{m} can be partitioned as primes.\")\n",
    "else:\n",
    "    print(f\"{m} cannot be partitioned as primes.\")\n"
   ]
  },
  {
   "cell_type": "code",
   "execution_count": null,
   "id": "2babbe53",
   "metadata": {},
   "outputs": [],
   "source": [
    "def is_prime(n):\n",
    "    if n <= 1:\n",
    "        return False\n",
    "    if n <= 3:\n",
    "        return True\n",
    "    if n % 2 == 0 or n % 3 == 0:\n",
    "        return False\n",
    "    i = 5\n",
    "    while i * i <= n:\n",
    "        if n % i == 0 or n % (i + 2) == 0:\n",
    "            return False\n",
    "        i += 6\n",
    "    return True\n",
    "\n",
    "def primepartition(m):\n",
    "    if m < 2:\n",
    "        return False\n",
    "    for i in range(2, m):\n",
    "        if is_prime(i) and is_prime(m - i):\n",
    "            return True\n",
    "    return False\n",
    "m = int(input(\"Enter a number: \"))\n",
    "if primepartition(m):\n",
    "    print(\"True\")\n",
    "else:\n",
    "    print(\"False\")"
   ]
  },
  {
   "cell_type": "code",
   "execution_count": null,
   "id": "78b48c65",
   "metadata": {},
   "outputs": [],
   "source": []
  },
  {
   "cell_type": "markdown",
   "id": "dd863e02",
   "metadata": {},
   "source": [
    "\n"
   ]
  },
  {
   "cell_type": "code",
   "execution_count": null,
   "id": "a9c7361a",
   "metadata": {},
   "outputs": [],
   "source": []
  },
  {
   "cell_type": "code",
   "execution_count": 9,
   "id": "b32ec84b",
   "metadata": {},
   "outputs": [
    {
     "name": "stdout",
     "output_type": "stream",
     "text": [
      "Enter a password: 671^skuF\n",
      "Password is strong.\n"
     ]
    }
   ],
   "source": [
    "\n",
    "def p_strength(p):\n",
    "    if len(p) < 8:\n",
    "        return \"Password is too short.\"\n",
    "    if not (any(c.isupper() for c in p)):\n",
    "        return \"Should have uppercase.\"\n",
    "    if not (any(c.islower() for c in p)):\n",
    "            return \"Should have lowercase\"\n",
    "    if not any(c.isdigit() for c in p):\n",
    "        return \"Password should contain at least one digit.\"\n",
    "    if not any(c in '!@#$%^&*' for c in p):\n",
    "        return \"Should have at least one special char.\"\n",
    "\n",
    "    return \"Password is strong.\"\n",
    "\n",
    "p = input(\"Enter a password: \")\n",
    "print(p_strength(p))\n"
   ]
  },
  {
   "cell_type": "code",
   "execution_count": null,
   "id": "97cfe53b",
   "metadata": {},
   "outputs": [],
   "source": []
  },
  {
   "cell_type": "code",
   "execution_count": 13,
   "id": "6331d0f3",
   "metadata": {},
   "outputs": [
    {
     "name": "stdout",
     "output_type": "stream",
     "text": [
      "Enter an email address: gha34j@gamil.com\n",
      "Valid email address.\n"
     ]
    }
   ],
   "source": [
    "def is_valid(email):\n",
    "    \"\"\"to check authenticity of give email\"\"\"\n",
    "    try:\n",
    "        username, domain = email.split('@')\n",
    "        if '.' not in domain:\n",
    "            return False\n",
    "        if not username or not domain:\n",
    "            return False\n",
    "    except ValueError:\n",
    "        return False\n",
    "    return True\n",
    "\n",
    "email = input(\"Enter an email address: \")\n",
    "if is_valid(email):\n",
    "    print(\"Valid email address.\")\n",
    "else:\n",
    "    print(\"Invalid email address.\")\n"
   ]
  },
  {
   "cell_type": "code",
   "execution_count": null,
   "id": "46dc1cb4",
   "metadata": {},
   "outputs": [],
   "source": []
  },
  {
   "cell_type": "code",
   "execution_count": 7,
   "id": "1b596655",
   "metadata": {},
   "outputs": [
    {
     "name": "stdout",
     "output_type": "stream",
     "text": [
      "Marks of maths should be in range 0-100\n"
     ]
    }
   ],
   "source": [
    "class OutOfRange(Exception):\n",
    "    \"\"\"raised when marks are out of range.\"\"\"\n",
    "    def __init__(self, message=\"Shoud be in range\"):\n",
    "        self.message = message\n",
    "        super().__init__(self.message)\n",
    "\n",
    "class Student:\n",
    "    \"\"\"representing class 12 student.\"\"\"\n",
    "    def __init__(self, name, physics, chemistry, maths):\n",
    "        self.name = name\n",
    "        self.physics = physics\n",
    "        self.chemistry = chemistry\n",
    "        self.maths = maths\n",
    "        self.validate_marks()\n",
    "\n",
    "    def validate_marks(self):\n",
    "        \"\"\"Validate that marks are range\"\"\"\n",
    "        subjects = ['physics', 'chemistry', 'maths']\n",
    "        for subject in subjects:\n",
    "            if getattr(self, subject) < 0 or getattr(self, subject) > 100:\n",
    "                raise OutOfRange(f\"Marks of {subject} should be in range 0-100\")\n",
    "\n",
    "try:\n",
    "    student = Student(\"John Doe\", 85, 90, 105)\n",
    "except OutOfRange as e:\n",
    "    print(e)\n"
   ]
  },
  {
   "cell_type": "code",
   "execution_count": 1,
   "id": "2be8173f",
   "metadata": {},
   "outputs": [
    {
     "name": "stdout",
     "output_type": "stream",
     "text": [
      "This program has executed 1 times\n",
      "This program has executed 2 times\n",
      "This program has executed 3 times\n",
      "This program has executed 4 times\n",
      "This program has executed 5 times\n",
      "This program has executed 6 times\n",
      "This program has executed 7 times\n",
      "This program has executed 8 times\n",
      "This program has executed 9 times\n",
      "This program has executed 10 times\n",
      "License expired, please contact xyz@gmail.com for renewal\n",
      "License expired, please contact xyz@gmail.com for renewal\n",
      "License expired, please contact xyz@gmail.com for renewal\n",
      "License expired, please contact xyz@gmail.com for renewal\n",
      "License expired, please contact xyz@gmail.com for renewal\n"
     ]
    }
   ],
   "source": [
    "count = 0\n",
    "\n",
    "def execute_program():\n",
    "    global count\n",
    "    count += 1\n",
    "    if count > 10:\n",
    "        print(\"License expired, please contact xyz@gmail.com for renewal\")\n",
    "    else:\n",
    "        print(f\"This program has executed {count} times\")\n",
    "\n",
    "# Call the function to see how it works\n",
    "for _ in range(15):\n",
    "    execute_program()\n"
   ]
  },
  {
   "cell_type": "code",
   "execution_count": null,
   "id": "1c6e1da1",
   "metadata": {},
   "outputs": [],
   "source": []
  },
  {
   "cell_type": "code",
   "execution_count": null,
   "id": "2a391641",
   "metadata": {},
   "outputs": [],
   "source": []
  },
  {
   "cell_type": "code",
   "execution_count": 3,
   "id": "6a0b8e6a",
   "metadata": {},
   "outputs": [
    {
     "name": "stdout",
     "output_type": "stream",
     "text": [
      "executed 3 times\n"
     ]
    }
   ],
   "source": [
    "import os\n",
    "\n",
    "def read_cnt():\n",
    "    if os.path.exists('cnt.txt'):\n",
    "        with open('cnt.txt', 'r') as f:\n",
    "            return int(f.read())\n",
    "    else:\n",
    "        return 0\n",
    "\n",
    "def increment_cnt(cnt):\n",
    "    with open('cnt.txt', 'w') as f:\n",
    "        f.write(str(cnt + 1))\n",
    "\n",
    "cnt = read_cnt()\n",
    "if cnt >= 10:\n",
    "    print(\"License expired\")\n",
    "else:\n",
    "    print(f\"executed {cnt + 1} times\")\n",
    "    increment_cnt(cnt)"
   ]
  },
  {
   "cell_type": "code",
   "execution_count": null,
   "id": "d658e40f",
   "metadata": {},
   "outputs": [],
   "source": []
  },
  {
   "cell_type": "code",
   "execution_count": 1,
   "id": "9e3edb68",
   "metadata": {},
   "outputs": [
    {
     "name": "stdout",
     "output_type": "stream",
     "text": [
      "John Doe\n",
      "30\n",
      "123 Main St\n",
      "Jane Doe\n",
      "32\n",
      "456 Elm St\n"
     ]
    }
   ],
   "source": [
    "class Person:\n",
    "    def __init__(self, name, age, address):\n",
    "        self._name = name\n",
    "        self._age = age\n",
    "        self._address = address\n",
    "\n",
    "    def get_name(self):\n",
    "        return self._name\n",
    "\n",
    "    def set_name(self, name):\n",
    "        self._name = name\n",
    "\n",
    "    def get_age(self):\n",
    "        return self._age\n",
    "\n",
    "\n",
    "    def set_age(self, age):\n",
    "        self._age = age\n",
    "\n",
    "    def get_address(self):\n",
    "        return self._address\n",
    "\n",
    "    def set_address(self, address):\n",
    "        self._address = address\n",
    "\n",
    "p = Person(\"John Doe\", 30, \"123 Main St\")\n",
    "\n",
    "# Access attributes through methods\n",
    "print(p.get_name())\n",
    "print(p.get_age())\n",
    "print(p.get_address())\n",
    "\n",
    "# Modify attributes through methods\n",
    "p.set_name(\"Jane Doe\")\n",
    "p.set_age(32)\n",
    "p.set_address(\"456 Elm St\")\n",
    "\n",
    "# Verify that attributes have been updated\n",
    "print(p.get_name())\n",
    "print(p.get_age())\n",
    "print(p.get_address())\n"
   ]
  },
  {
   "cell_type": "code",
   "execution_count": 2,
   "id": "69c715b2",
   "metadata": {},
   "outputs": [
    {
     "name": "stdout",
     "output_type": "stream",
     "text": [
      "78.53981633974483\n",
      "28\n"
     ]
    }
   ],
   "source": [
    "from abc import ABC, abstractmethod\n",
    "import math\n",
    "\n",
    "class Shape(ABC):\n",
    "    @abstractmethod\n",
    "    def area(self):\n",
    "        pass\n",
    "\n",
    "class Circle(Shape):\n",
    "    def __init__(self, radius):\n",
    "        self.radius = radius\n",
    "\n",
    "    def area(self):\n",
    "        return math.pi * (self.radius ** 2)\n",
    "\n",
    "class Rectangle(Shape):\n",
    "    def __init__(self, width, height):\n",
    "        self.width = width\n",
    "        self.height = height\n",
    "\n",
    "    def area(self):\n",
    "        return self.width * self.height\n",
    "\n",
    "    # Create a Circle object\n",
    "c = Circle(5)\n",
    "print(c.area())  # Output: 78.53981633974483\n",
    "\n",
    "# Create a Rectangle object\n",
    "r = Rectangle(4, 7)\n",
    "print(r.area())  # Output: 28\n"
   ]
  },
  {
   "cell_type": "code",
   "execution_count": 3,
   "id": "84e416eb",
   "metadata": {},
   "outputs": [
    {
     "name": "stdout",
     "output_type": "stream",
     "text": [
      "Bark!\n",
      "Meow!\n"
     ]
    }
   ],
   "source": [
    "class Animal:\n",
    "    def speak(self):\n",
    "        pass\n",
    "\n",
    "class Dog(Animal):\n",
    "    def speak(self):\n",
    "        return \"Bark!\"\n",
    "\n",
    "class Cat(Animal):\n",
    "    def speak(self):\n",
    "        return \"Meow!\"\n",
    "# Create a Dog object\n",
    "d = Dog()\n",
    "print(d.speak())  # Output: Bark!\n",
    "\n",
    "# Create a Cat object\n",
    "c = Cat()\n",
    "print(c.speak())  # Output: Meow!\n"
   ]
  },
  {
   "cell_type": "code",
   "execution_count": 4,
   "id": "a4aa8c62",
   "metadata": {},
   "outputs": [
    {
     "name": "stdout",
     "output_type": "stream",
     "text": [
      "3\n"
     ]
    }
   ],
   "source": [
    "class MyClass:\n",
    "    # Static variable\n",
    "    instance_count = 0\n",
    "\n",
    "    def __init__(self):\n",
    "        # Increment the static variable for each new instance\n",
    "        MyClass.instance_count += 1\n",
    "\n",
    "# Create instances of MyClass\n",
    "a = MyClass()\n",
    "b = MyClass()\n",
    "c = MyClass()\n",
    "\n",
    "# Print the static variable\n",
    "print(MyClass.instance_count)  # Output: 3\n"
   ]
  },
  {
   "cell_type": "code",
   "execution_count": 10,
   "id": "95ed1c16",
   "metadata": {},
   "outputs": [],
   "source": [
    "from typing import final\n",
    "\n",
    "class BaseClass:\n",
    "    @final\n",
    "    def method(self):\n",
    "        return \"BaseClass method\"\n",
    "\n",
    "class DerivedClass(BaseClass):\n",
    "    # This will raise a TypeError during type checking\n",
    "    # because we're trying to override a final method\n",
    "    def method(self):\n",
    "        return \"DerivedClass method\"\n"
   ]
  },
  {
   "cell_type": "code",
   "execution_count": null,
   "id": "e5088f41",
   "metadata": {},
   "outputs": [],
   "source": []
  },
  {
   "cell_type": "code",
   "execution_count": null,
   "id": "4e5fa3ec",
   "metadata": {},
   "outputs": [],
   "source": []
  },
  {
   "cell_type": "code",
   "execution_count": 16,
   "id": "b35431f7",
   "metadata": {},
   "outputs": [
    {
     "name": "stdout",
     "output_type": "stream",
     "text": [
      "78.53975\n"
     ]
    }
   ],
   "source": [
    "from typing import Final\n",
    "\n",
    "PIE: Final = 3.14159\n",
    "PIE=3\n",
    "\n",
    "class Circle:\n",
    "    def __init__(self, radius):\n",
    "        self.radius = radius\n",
    "\n",
    "    def area(self):\n",
    "        return PIE * (self.radius ** 2)\n",
    "# Create a Circle object with radius 5\n",
    "c = Circle(5)\n",
    "\n",
    "# Print the area of the circle\n",
    "print(c.area())  # Output: 78.53981633974483\n",
    "\n"
   ]
  },
  {
   "cell_type": "code",
   "execution_count": 20,
   "id": "ae8b2eda",
   "metadata": {},
   "outputs": [
    {
     "name": "stdout",
     "output_type": "stream",
     "text": [
      "I'm public!\n",
      "New public value\n",
      "I'm protected!\n",
      "New protected value\n",
      "I'm private!\n",
      "New private value\n"
     ]
    }
   ],
   "source": [
    "class MyClass:\n",
    "    def __init__(self):\n",
    "        self.public = \"I'm public!\"\n",
    "        self._protected= \"I'm protected!\"\n",
    "        self.__private = \"I'm private!\"\n",
    "\n",
    "    # Method to access private attribute\n",
    "    def get_private(self):\n",
    "        return self.__private\n",
    "\n",
    "    # Method to modify private attribute\n",
    "    def set_private(self, value):\n",
    "        self.__private = value\n",
    "\n",
    "        \n",
    "# Create an instance of MyClass\n",
    "obj = MyClass()\n",
    "\n",
    "# Access and modify the public attribute\n",
    "print(obj.public)  # Output: I'm public!\n",
    "obj.public = \"New public value\"\n",
    "print(obj.public)  # Output: New public value\n",
    "\n",
    "# Access and modify the protected attribute\n",
    "print(obj._protected)  # Output: I'm protected!\n",
    "obj._protected = \"New protected value\"\n",
    "print(obj._protected)  # Output: New protected value\n",
    "\n",
    "# Access and modify the private attribute\n",
    "print(obj.get_private())  # Output: I'm private!\n",
    "obj.set_private(\"New private value\")\n",
    "print(obj.get_private())  # Output: New private value\n"
   ]
  },
  {
   "cell_type": "code",
   "execution_count": null,
   "id": "8f723daf",
   "metadata": {},
   "outputs": [],
   "source": []
  },
  {
   "cell_type": "code",
   "execution_count": 21,
   "id": "cc099d44",
   "metadata": {},
   "outputs": [
    {
     "data": {
      "text/plain": [
       "'C:\\\\Users\\\\sayhi'"
      ]
     },
     "execution_count": 21,
     "metadata": {},
     "output_type": "execute_result"
    }
   ],
   "source": [
    "import os\n",
    "os.getcwd()"
   ]
  },
  {
   "cell_type": "code",
   "execution_count": 34,
   "id": "08be31e4",
   "metadata": {},
   "outputs": [],
   "source": [
    "from collections import Counter\n",
    "import re\n",
    "\n",
    "try:\n",
    "    # Open the input file\n",
    "    with open('word.txt', 'r') as f:\n",
    "        text = f.read()\n",
    "\n",
    "    # Split the text into words, convert to lowercase, and remove punctuation\n",
    "    words = re.findall(r'\\b\\w+\\b', text.lower())\n",
    "\n",
    "    # Count the occurrences of each word\n",
    "    word_counts = Counter(words)\n",
    "\n",
    "    # Open the output file\n",
    "    with open('word_count.txt', 'w') as f:\n",
    "        # Write the word frequencies to the output file\n",
    "        for word, count in word_counts.items():\n",
    "            f.write(f'{word}: {count}\\n')\n",
    "\n",
    "except IOError as e:\n",
    "    print(f'An error occurred while handling the file: {e}')\n",
    "f.close()"
   ]
  },
  {
   "cell_type": "code",
   "execution_count": 38,
   "id": "b5f2cb34",
   "metadata": {},
   "outputs": [
    {
     "name": "stdout",
     "output_type": "stream",
     "text": [
      "my: 4\n",
      "pencil: 2\n",
      "got: 1\n",
      "for: 1\n",
      "son: 1\n",
      "\n"
     ]
    }
   ],
   "source": [
    "f=open('word_count.txt','r')\n",
    "print(f.read())\n"
   ]
  },
  {
   "cell_type": "code",
   "execution_count": 39,
   "id": "08ea9fa3",
   "metadata": {},
   "outputs": [],
   "source": [
    "f.close()"
   ]
  },
  {
   "cell_type": "code",
   "execution_count": 50,
   "id": "875b6efd",
   "metadata": {},
   "outputs": [
    {
     "name": "stdout",
     "output_type": "stream",
     "text": [
      "Prime numbers in the file are->53 13 5 \n",
      "Finished processing the file.\n"
     ]
    }
   ],
   "source": [
    "def is_prime(n):\n",
    "    if n <= 1:\n",
    "        return False\n",
    "    for i in range(2, n):\n",
    "        if n%i==0:\n",
    "            return False\n",
    "    return True\n",
    "\n",
    "try:\n",
    "    # Open the file\n",
    "    f=open('data.txt', 'r') \n",
    "    data = f.read().split()\n",
    "\n",
    "    prime = [int(num) for num in data if is_prime(int(num))]\n",
    "\n",
    "    print(\"Prime numbers in the file are\",end=\"->\")\n",
    "    for p in prime:\n",
    "        print(p,end=\" \")\n",
    "\n",
    "except IOError as e:\n",
    "    print(f'An error occurred while handling the file: {e}')\n",
    "\n",
    "finally:\n",
    "    f.close()\n",
    "    print('\\nFinished processing the file.')\n"
   ]
  },
  {
   "cell_type": "code",
   "execution_count": null,
   "id": "570e241f",
   "metadata": {},
   "outputs": [],
   "source": []
  },
  {
   "cell_type": "code",
   "execution_count": 51,
   "id": "66dfb294",
   "metadata": {},
   "outputs": [
    {
     "name": "stdout",
     "output_type": "stream",
     "text": [
      "Number of lines: 10\n",
      "Number of words: 10\n",
      "Number of sentences: 0\n",
      "Finished processing the file.\n"
     ]
    }
   ],
   "source": [
    "try:\n",
    "    \n",
    "    f=open('data.txt', 'r')\n",
    "    lines = f.readlines()\n",
    "\n",
    "    \n",
    "    line_count = len(lines)\n",
    "\n",
    "    word_count = 0\n",
    "    sentence_count = 0\n",
    "    for line in lines:\n",
    "        words = line.split()\n",
    "        word_count += len(words)\n",
    "        sentence_count += line.count('.') + line.count('!') + line.count('?')\n",
    "\n",
    "    print('Number of lines:',line_count)\n",
    "    print('Number of words:' ,word_count)\n",
    "    print('Number of sentences:',sentence_count)\n",
    "\n",
    "except IOError as e:\n",
    "    print(f'An error occurred while handling the file: {e}')\n",
    "\n",
    "finally:\n",
    "    f.close()\n",
    "    print('Finished processing the file.')\n"
   ]
  },
  {
   "cell_type": "code",
   "execution_count": null,
   "id": "ceb5b9c5",
   "metadata": {},
   "outputs": [],
   "source": []
  },
  {
   "cell_type": "code",
   "execution_count": null,
   "id": "4a6bf108",
   "metadata": {},
   "outputs": [],
   "source": []
  },
  {
   "cell_type": "code",
   "execution_count": null,
   "id": "d6914076",
   "metadata": {},
   "outputs": [],
   "source": []
  },
  {
   "cell_type": "code",
   "execution_count": null,
   "id": "06ba2d49",
   "metadata": {},
   "outputs": [],
   "source": []
  },
  {
   "cell_type": "code",
   "execution_count": 10,
   "id": "5844a37f",
   "metadata": {},
   "outputs": [
    {
     "name": "stdout",
     "output_type": "stream",
     "text": [
      "Enter a number: 1521\n",
      "The square root of 1521.0 is 39.0\n"
     ]
    }
   ],
   "source": [
    "import math\n",
    "\n",
    "# Input number\n",
    "num = float(input(\"Enter a number: \"))\n",
    "\n",
    "# Calculate square root\n",
    "result = math.sqrt(num)\n",
    "\n",
    "# Print the result\n",
    "print(\"The square root of\", number, \"is\", result)\n"
   ]
  },
  {
   "cell_type": "code",
   "execution_count": 15,
   "id": "d3bb1c26",
   "metadata": {},
   "outputs": [
    {
     "name": "stdout",
     "output_type": "stream",
     "text": [
      "90\n",
      "22\n",
      "36\n",
      "5.0\n"
     ]
    }
   ],
   "source": [
    "import mymod as my\n",
    "print(my.add(34,56))\n",
    "print(my.sub(56,34))\n",
    "print(my.multiply(9,4))\n",
    "print(my.divide(15,3))"
   ]
  },
  {
   "cell_type": "code",
   "execution_count": 22,
   "id": "87083465",
   "metadata": {},
   "outputs": [
    {
     "name": "stdout",
     "output_type": "stream",
     "text": [
      "Guess a number 1\n",
      "Too low! The number was 7\n"
     ]
    }
   ],
   "source": [
    "import random\n",
    "\n",
    "# Generate a random number between 1 and 10\n",
    "to_guess = random.randint(1, 10)\n",
    "\n",
    "# Prompt the user to guess the number\n",
    "user_guess = int(input(\"Guess a number \"))\n",
    "\n",
    "# Provide feedback\n",
    "if user_guess == to_guess:\n",
    "    print(\"Congratulations! You guessed correctly.\")\n",
    "elif user_guess < number_to_guess:\n",
    "    print(\"Too low! The number was\", number_to_guess)\n",
    "else:\n",
    "    print(\"Too high! The number was\", number_to_guess)\n"
   ]
  },
  {
   "cell_type": "code",
   "execution_count": 24,
   "id": "24dd9fc6",
   "metadata": {},
   "outputs": [
    {
     "name": "stdout",
     "output_type": "stream",
     "text": [
      "Array:\n",
      "[[ 1  2  3  4]\n",
      " [ 5  6  7  8]\n",
      " [ 9 10 11 12]]\n",
      "\n",
      "Maximum element from each row:\n",
      "[ 4  8 12]\n"
     ]
    }
   ],
   "source": [
    "import numpy as np\n",
    "\n",
    "# Create a 3x4 numpy array\n",
    "a= np.array([[1, 2, 3, 4], [5, 6, 7, 8], [9, 10, 11, 12]])\n",
    "\n",
    "print(\"Array:\")\n",
    "print(a)\n",
    "\n",
    "# Find maximum element from each row\n",
    "max_elements = np.max(a, axis=1)\n",
    "\n",
    "print(\"\\nMaximum element from each row:\")\n",
    "print(max_elements)\n"
   ]
  },
  {
   "cell_type": "code",
   "execution_count": null,
   "id": "2174d2e6",
   "metadata": {},
   "outputs": [],
   "source": []
  },
  {
   "cell_type": "code",
   "execution_count": null,
   "id": "b3d7ab46",
   "metadata": {},
   "outputs": [],
   "source": []
  },
  {
   "cell_type": "code",
   "execution_count": 31,
   "id": "5a83a06e",
   "metadata": {},
   "outputs": [
    {
     "name": "stdout",
     "output_type": "stream",
     "text": [
      "Number of Rows: 4\n",
      "Number of Columns: 5\n",
      "\n",
      "\n",
      "     Name  Age Sex  Marks Grade\n",
      "0   Nihar   23   M     23     C\n",
      "1  Ranjan   34   M     40     B\n",
      "2     Roy   23   M     47     A\n",
      "3  Sunita   18   F     49     A\n",
      "\n",
      "\n",
      "    Name  Age Sex  Marks Grade\n",
      "0  Nihar   23   M     23     C\n",
      "\n",
      "\n",
      "Sum of Marks of all Female Students: 49\n",
      "\n",
      "\n",
      "0     Nihar\n",
      "1    Ranjan\n",
      "2       Roy\n",
      "Name: Name, dtype: object\n",
      "\n",
      "\n",
      "Mean Age of the Class: 24.5\n"
     ]
    }
   ],
   "source": [
    "# Importing required library\n",
    "import pandas as pd\n",
    "\n",
    "# a. Load this file into a python DataFrame\n",
    "df = pd.read_csv('student.csv')\n",
    "\n",
    "# b. Find the number of rows and columns in it.\n",
    "rows, columns = df.shape\n",
    "print(f'Number of Rows: {rows}')\n",
    "print(f'Number of Columns: {columns}')\n",
    "\n",
    "# c. See last 5 rows from the bottom\n",
    "print('\\n')\n",
    "print(df.tail(5))\n",
    "print('\\n')\n",
    "# d. Find the details of student with lowest marks\n",
    "lowest_marks = df[df['Marks'] == df['Marks'].min()]\n",
    "print(lowest_marks)\n",
    "print('\\n')\n",
    "# e. Find sum total marks of all female students\n",
    "female_students = df[df['Sex'] == 'F']['Marks'].sum()\n",
    "print(f'Sum of Marks of all Female Students: {female_students}')\n",
    "print('\\n')\n",
    "# f. List names of all the male students\n",
    "male_students = df[df['Sex'] == 'M']['Name']\n",
    "print(male_students)\n",
    "print('\\n')\n",
    "# g. Find mean age of the class\n",
    "mean_age = df['Age'].mean()\n",
    "print(f'Mean Age of the Class: {mean_age}')\n"
   ]
  },
  {
   "cell_type": "code",
   "execution_count": null,
   "id": "f98d3fbd",
   "metadata": {},
   "outputs": [],
   "source": []
  },
  {
   "cell_type": "code",
   "execution_count": null,
   "id": "9427660a",
   "metadata": {},
   "outputs": [],
   "source": []
  },
  {
   "cell_type": "code",
   "execution_count": null,
   "id": "02f2ac8b",
   "metadata": {},
   "outputs": [],
   "source": []
  },
  {
   "cell_type": "code",
   "execution_count": null,
   "id": "95e8a6d0",
   "metadata": {},
   "outputs": [],
   "source": []
  },
  {
   "cell_type": "code",
   "execution_count": null,
   "id": "3574618c",
   "metadata": {},
   "outputs": [],
   "source": []
  },
  {
   "cell_type": "code",
   "execution_count": null,
   "id": "00ede497",
   "metadata": {},
   "outputs": [],
   "source": []
  },
  {
   "cell_type": "code",
   "execution_count": null,
   "id": "08c3b6be",
   "metadata": {},
   "outputs": [],
   "source": []
  },
  {
   "cell_type": "code",
   "execution_count": null,
   "id": "24e5d9ce",
   "metadata": {},
   "outputs": [],
   "source": []
  },
  {
   "cell_type": "code",
   "execution_count": 35,
   "id": "38e47ce7",
   "metadata": {},
   "outputs": [
    {
     "data": {
      "image/png": "[encoded data removed]",
      "text/plain": [
       "<Figure size 1000x600 with 1 Axes>"
      ]
     },
     "metadata": {},
     "output_type": "display_data"
    }
   ],
   "source": [
    "# Importing required libraries\n",
    "import matplotlib.pyplot as plt\n",
    "import numpy as np\n",
    "\n",
    "# Creating a set of numbers from 0 to 10\n",
    "x = np.linspace(0, 10, 400)\n",
    "\n",
    "# Calculating y values for the functions\n",
    "y1 = x**2\n",
    "y2 = x**3\n",
    "\n",
    "# Creating the plot\n",
    "plt.figure(figsize=(10, 6))\n",
    "\n",
    "# Plotting y = x^2\n",
    "plt.plot(x, y1, label='y = x^2')\n",
    "\n",
    "# Plotting y = x^3\n",
    "plt.plot(x, y2, label='y = x^3')\n",
    "\n",
    "# Adding title and labels\n",
    "plt.title('Plot of y = x^2 and y = x^3')\n",
    "plt.xlabel('x')\n",
    "plt.ylabel('y')\n",
    "\n",
    "# Adding a legend\n",
    "plt.legend()\n",
    "\n",
    "# Displaying the plot\n",
    "plt.show()\n"
   ]
  },
  {
   "cell_type": "code",
   "execution_count": null,
   "id": "a9481449",
   "metadata": {},
   "outputs": [],
   "source": []
  },
  {
   "cell_type": "code",
   "execution_count": null,
   "id": "e6bbc901",
   "metadata": {},
   "outputs": [],
   "source": []
  },
  {
   "cell_type": "code",
   "execution_count": null,
   "id": "c968fc01",
   "metadata": {},
   "outputs": [],
   "source": []
  },
  {
   "cell_type": "code",
   "execution_count": 37,
   "id": "36e969f8",
   "metadata": {},
   "outputs": [
    {
     "name": "stdout",
     "output_type": "stream",
     "text": [
      "2\n",
      "-1\n"
     ]
    }
   ],
   "source": [
    "def linear_search(lst, target):\n",
    "    for i in range(len(lst)):\n",
    "        if lst[i] == target:\n",
    "            return i  # Return the index if target is found\n",
    "    return -1  # Return -1 if target is not found\n",
    "\n",
    "# Example usage:\n",
    "numbers = [1, 2, 3, 4, 5]\n",
    "print(linear_search(numbers, 3))  # Output: 2\n",
    "print(linear_search(numbers, 6))  # Output: -1\n"
   ]
  },
  {
   "cell_type": "code",
   "execution_count": 40,
   "id": "7e0b61c1",
   "metadata": {},
   "outputs": [
    {
     "name": "stdout",
     "output_type": "stream",
     "text": [
      "3\n",
      "-1\n"
     ]
    }
   ],
   "source": [
    "def binary_search(lst, target):\n",
    "    low = 0\n",
    "    high = len(lst) - 1\n",
    "\n",
    "    while low <= high:\n",
    "        mid = (low + high) // 2\n",
    "        guess = lst[mid]\n",
    "        if guess == target:\n",
    "            return mid  # Return the index if target is found\n",
    "        elif guess > target:\n",
    "            high = mid - 1\n",
    "        else:\n",
    "            low = mid + 1\n",
    "    return -1  # Return -1 if target is not found\n",
    "\n",
    "# Example usage:\n",
    "numbers = [79, 80, 81, 82, 83]\n",
    "print(binary_search(numbers, 82))  # Output: 2\n",
    "print(binary_search(numbers, 70))  # Output: -1\n"
   ]
  },
  {
   "cell_type": "code",
   "execution_count": 41,
   "id": "c6a93264",
   "metadata": {},
   "outputs": [
    {
     "name": "stdout",
     "output_type": "stream",
     "text": [
      "[11, 12, 22, 25, 34, 64, 90]\n"
     ]
    }
   ],
   "source": [
    "def bubble_sort(lst):\n",
    "    n = len(lst)\n",
    "    for i in range(n):\n",
    "        for j in range(0, n-i-1):\n",
    "            # Swap if current element is greater than next\n",
    "            if lst[j] > lst[j+1]:\n",
    "                lst[j], lst[j+1] = lst[j+1], lst[j]\n",
    "    return lst\n",
    "\n",
    "# Example usage:\n",
    "numbers = [64, 34, 25, 12, 22, 11, 90]\n",
    "print(bubble_sort(numbers))  # Output: [11, 12, 22, 25, 34, 64, 90]\n"
   ]
  },
  {
   "cell_type": "code",
   "execution_count": 42,
   "id": "365f7636",
   "metadata": {},
   "outputs": [
    {
     "name": "stdout",
     "output_type": "stream",
     "text": [
      "[11 12 22 25 34 64 90]\n"
     ]
    }
   ],
   "source": [
    "# Importing required library\n",
    "import numpy as np\n",
    "\n",
    "# Creating a NumPy array of integers\n",
    "arr = np.array([64, 34, 25, 12, 22, 11, 90])\n",
    "\n",
    "# Sorting the array\n",
    "sorted_arr = np.sort(arr)\n",
    "\n",
    "# Printing the sorted array\n",
    "print(sorted_arr)  # Output: [11 12 22 25 34 64 90]\n"
   ]
  },
  {
   "cell_type": "code",
   "execution_count": null,
   "id": "ded23a5b",
   "metadata": {},
   "outputs": [],
   "source": []
  }
 ],
 "metadata": {
  "kernelspec": {
   "display_name": "Python 3 (ipykernel)",
   "language": "python",
   "name": "python3"
  },
  "language_info": {
   "codemirror_mode": {
    "name": "ipython",
    "version": 3
   },
   "file_extension": ".py",
   "mimetype": "text/x-python",
   "name": "python",
   "nbconvert_exporter": "python",
   "pygments_lexer": "ipython3",
   "version": "3.11.5"
  }
 },
 "nbformat": 4,
 "nbformat_minor": 5
}
