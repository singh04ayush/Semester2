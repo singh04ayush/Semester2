{
 "cells": [
  {
   "cell_type": "markdown",
   "id": "b24b36b5",
   "metadata": {},
   "source": [
    "## OOP In Python"
   ]
  },
  {
   "cell_type": "code",
   "execution_count": null,
   "id": "56631d4b",
   "metadata": {},
   "outputs": [],
   "source": []
  },
  {
   "cell_type": "code",
   "execution_count": null,
   "id": "80bb4e01",
   "metadata": {},
   "outputs": [],
   "source": []
  },
  {
   "cell_type": "markdown",
   "id": "8aaf6dcb",
   "metadata": {},
   "source": [
    "#### ##classes, objects, attributes, methods"
   ]
  },
  {
   "cell_type": "code",
   "execution_count": 3,
   "id": "2fc16b25",
   "metadata": {},
   "outputs": [
    {
     "name": "stdout",
     "output_type": "stream",
     "text": [
      "<class 'int'>\n"
     ]
    }
   ],
   "source": [
    "proof->>\n",
    "a=7\n",
    "print(type(a))"
   ]
  },
  {
   "cell_type": "code",
   "execution_count": 4,
   "id": "c2b05471",
   "metadata": {},
   "outputs": [
    {
     "data": {
      "text/plain": [
       "['__abs__',\n",
       " '__add__',\n",
       " '__and__',\n",
       " '__bool__',\n",
       " '__ceil__',\n",
       " '__class__',\n",
       " '__delattr__',\n",
       " '__dir__',\n",
       " '__divmod__',\n",
       " '__doc__',\n",
       " '__eq__',\n",
       " '__float__',\n",
       " '__floor__',\n",
       " '__floordiv__',\n",
       " '__format__',\n",
       " '__ge__',\n",
       " '__getattribute__',\n",
       " '__getnewargs__',\n",
       " '__getstate__',\n",
       " '__gt__',\n",
       " '__hash__',\n",
       " '__index__',\n",
       " '__init__',\n",
       " '__init_subclass__',\n",
       " '__int__',\n",
       " '__invert__',\n",
       " '__le__',\n",
       " '__lshift__',\n",
       " '__lt__',\n",
       " '__mod__',\n",
       " '__mul__',\n",
       " '__ne__',\n",
       " '__neg__',\n",
       " '__new__',\n",
       " '__or__',\n",
       " '__pos__',\n",
       " '__pow__',\n",
       " '__radd__',\n",
       " '__rand__',\n",
       " '__rdivmod__',\n",
       " '__reduce__',\n",
       " '__reduce_ex__',\n",
       " '__repr__',\n",
       " '__rfloordiv__',\n",
       " '__rlshift__',\n",
       " '__rmod__',\n",
       " '__rmul__',\n",
       " '__ror__',\n",
       " '__round__',\n",
       " '__rpow__',\n",
       " '__rrshift__',\n",
       " '__rshift__',\n",
       " '__rsub__',\n",
       " '__rtruediv__',\n",
       " '__rxor__',\n",
       " '__setattr__',\n",
       " '__sizeof__',\n",
       " '__str__',\n",
       " '__sub__',\n",
       " '__subclasshook__',\n",
       " '__truediv__',\n",
       " '__trunc__',\n",
       " '__xor__',\n",
       " 'as_integer_ratio',\n",
       " 'bit_count',\n",
       " 'bit_length',\n",
       " 'conjugate',\n",
       " 'denominator',\n",
       " 'from_bytes',\n",
       " 'imag',\n",
       " 'numerator',\n",
       " 'real',\n",
       " 'to_bytes']"
      ]
     },
     "execution_count": 4,
     "metadata": {},
     "output_type": "execute_result"
    }
   ],
   "source": [
    "dir(int)"
   ]
  },
  {
   "cell_type": "code",
   "execution_count": 10,
   "id": "bf611cb5",
   "metadata": {},
   "outputs": [
    {
     "name": "stdout",
     "output_type": "stream",
     "text": [
      "3\n",
      "0b111\n",
      "int([x]) -> integer\n",
      "int(x, base=10) -> integer\n",
      "\n",
      "Convert a number or string to an integer, or return 0 if no arguments\n",
      "are given.  If x is a number, return x.__int__().  For floating point\n",
      "numbers, this truncates towards zero.\n",
      "\n",
      "If x is not a number or if base is given, then x must be a string,\n",
      "bytes, or bytearray instance representing an integer literal in the\n",
      "given base.  The literal can be preceded by '+' or '-' and be surrounded\n",
      "by whitespace.  The base defaults to 10.  Valid bases are 0 and 2-36.\n",
      "Base 0 means to interpret the base from the string as an integer literal.\n",
      ">>> int('0b100', base=0)\n",
      "4\n"
     ]
    }
   ],
   "source": [
    "a=7\n",
    "print(a.bit_count())\n",
    "print(bin(7))\n",
    "print(a.__doc__)"
   ]
  },
  {
   "cell_type": "markdown",
   "id": "2fc3a58e",
   "metadata": {},
   "source": [
    "### class syntax"
   ]
  },
  {
   "cell_type": "code",
   "execution_count": null,
   "id": "e160f1e4",
   "metadata": {},
   "outputs": [],
   "source": [
    "class ClassName:\n",
    "    <statement>"
   ]
  },
  {
   "cell_type": "code",
   "execution_count": null,
   "id": "2140aa3d",
   "metadata": {},
   "outputs": [],
   "source": [
    "properties-:\n",
    "    inheritance\n",
    "    polymorphism (copy)\n",
    "    abstraction (hiding the details)\n",
    "    encapsulation (accessibilty to hidden members)"
   ]
  },
  {
   "cell_type": "code",
   "execution_count": 14,
   "id": "67c358b1",
   "metadata": {},
   "outputs": [
    {
     "name": "stdout",
     "output_type": "stream",
     "text": [
      "Ayush\n",
      "19\n"
     ]
    }
   ],
   "source": [
    "class Student:\n",
    "    name='Ayush'\n",
    "    age=19\n",
    "obj=Student()   #creating an object from class indirctly referring to memory address and calling to constructots\n",
    "print(obj.name)    #accessing members\n",
    "he=Student()\n",
    "print(he.age)"
   ]
  },
  {
   "cell_type": "markdown",
   "id": "42d7bfdc",
   "metadata": {},
   "source": [
    "### Constructors"
   ]
  },
  {
   "cell_type": "code",
   "execution_count": null,
   "id": "f5fd7f19",
   "metadata": {},
   "outputs": [],
   "source": [
    "special function which is used to intiliatzie the istances member of class\n",
    "two types:\n",
    "    parameterized (taking arguments)\n",
    "    non-parameterized (not taking arguments)\n",
    "name can only start from underscore double and end with too\n",
    "\n",
    "a class can contain more than one constructots"
   ]
  },
  {
   "cell_type": "code",
   "execution_count": 17,
   "id": "c1831995",
   "metadata": {},
   "outputs": [
    {
     "name": "stdout",
     "output_type": "stream",
     "text": [
      "Ayush\n",
      "19\n"
     ]
    }
   ],
   "source": [
    "class Student:\n",
    "    def __init__(selfref, name, age):\n",
    "        selfref.name=name\n",
    "        selfref.age=age\n",
    "p1=Student('Ayush', 19)\n",
    "print(p1.name)\n",
    "print(p1.age)"
   ]
  },
  {
   "cell_type": "code",
   "execution_count": 23,
   "id": "6cc024b6",
   "metadata": {},
   "outputs": [
    {
     "name": "stdout",
     "output_type": "stream",
     "text": [
      "hello my name is ayush\n"
     ]
    }
   ],
   "source": [
    "#objects can also have methods like regular members\n",
    "class Student:\n",
    "    name=''\n",
    "    age=0\n",
    "    def __init__(selfref, name, age):\n",
    "        selfref.name=name\n",
    "        selfref.age=age\n",
    "    \n",
    "    def myfunc(selfref):\n",
    "        print('hello my name is '+selfref.name)\n",
    "p1=Student('ayush', 19)\n",
    "p1.myfunc()"
   ]
  },
  {
   "cell_type": "code",
   "execution_count": null,
   "id": "4d6c3e05",
   "metadata": {},
   "outputs": [],
   "source": [
    "def compobject(self, obj):\n",
    "    if self.x==obj.x and self.y==obj.y:\n",
    "        return True\n",
    "    else:\n",
    "        return False"
   ]
  },
  {
   "cell_type": "code",
   "execution_count": 4,
   "id": "4cc049a4",
   "metadata": {},
   "outputs": [
    {
     "data": {
      "text/plain": [
       "6.324555320336759"
      ]
     },
     "execution_count": 4,
     "metadata": {},
     "output_type": "execute_result"
    }
   ],
   "source": [
    "class Point:\n",
    "    x=0\n",
    "    y=0\n",
    "    def __init__(selfref, a, b):\n",
    "        selfref.x=a\n",
    "        selfref.y=b\n",
    "    def dis(self, obj):\n",
    "        distance=((obj.x-self.x)+(obj.y-self.y))**0.5\n",
    "        return distance\n",
    "p1=Point(10,20)\n",
    "p2=Point(30,40)\n",
    "p1.dis(p2)"
   ]
  },
  {
   "cell_type": "code",
   "execution_count": null,
   "id": "8776f3ff",
   "metadata": {},
   "outputs": [],
   "source": []
  }
 ],
 "metadata": {
  "kernelspec": {
   "display_name": "Python 3 (ipykernel)",
   "language": "python",
   "name": "python3"
  },
  "language_info": {
   "codemirror_mode": {
    "name": "ipython",
    "version": 3
   },
   "file_extension": ".py",
   "mimetype": "text/x-python",
   "name": "python",
   "nbconvert_exporter": "python",
   "pygments_lexer": "ipython3",
   "version": "3.11.5"
  }
 },
 "nbformat": 4,
 "nbformat_minor": 5
}
