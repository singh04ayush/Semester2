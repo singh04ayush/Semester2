{
 "cells": [
  {
   "cell_type": "code",
   "execution_count": 1,
   "id": "859e21ec",
   "metadata": {},
   "outputs": [],
   "source": [
    "#Exception Handling"
   ]
  },
  {
   "cell_type": "code",
   "execution_count": 3,
   "id": "46461459",
   "metadata": {},
   "outputs": [
    {
     "name": "stdout",
     "output_type": "stream",
     "text": [
      "ayush\n"
     ]
    }
   ],
   "source": [
    "try:\n",
    "    print(a)\n",
    "except:\n",
    "    print('ayush')"
   ]
  },
  {
   "cell_type": "code",
   "execution_count": 6,
   "id": "04ceaa20",
   "metadata": {},
   "outputs": [
    {
     "name": "stdout",
     "output_type": "stream",
     "text": [
      "10\n"
     ]
    }
   ],
   "source": [
    "try:\n",
    "    10/0\n",
    "except:\n",
    "    print(10//1)"
   ]
  },
  {
   "cell_type": "code",
   "execution_count": 16,
   "id": "7ba1c2a9",
   "metadata": {},
   "outputs": [
    {
     "name": "stdout",
     "output_type": "stream",
     "text": [
      "first number: 4\n",
      "second number: 0\n",
      "NOT possible,enter a valid input\n",
      "END\n"
     ]
    }
   ],
   "source": [
    "#write a program in which divide two  numbers using error/excpetion handling\n",
    "\n",
    "n=int(input('first number: '))\n",
    "p=int(input(\"second number: \"))\n",
    "try:\n",
    "    print(n//p)\n",
    "except:\n",
    "    print(\"NOT possible,enter a valid input\")\n",
    "finally:\n",
    "    print('END')"
   ]
  },
  {
   "cell_type": "code",
   "execution_count": 25,
   "id": "fad502be",
   "metadata": {},
   "outputs": [
    {
     "name": "stdout",
     "output_type": "stream",
     "text": [
      "try\n",
      "nothing wrong\n"
     ]
    }
   ],
   "source": [
    "try:\n",
    "    print('try')\n",
    "except:\n",
    "    print('something wrong')\n",
    "else:\n",
    "    print('nothing wrong')"
   ]
  },
  {
   "cell_type": "code",
   "execution_count": 26,
   "id": "d9c9d71b",
   "metadata": {},
   "outputs": [
    {
     "name": "stdout",
     "output_type": "stream",
     "text": [
      "something wrong\n"
     ]
    }
   ],
   "source": [
    "try:\n",
    "    print(a)\n",
    "except:\n",
    "    print('something wrong')\n",
    "else:\n",
    "    print('nothing wrong')"
   ]
  },
  {
   "cell_type": "code",
   "execution_count": 99,
   "id": "469d9748",
   "metadata": {},
   "outputs": [
    {
     "name": "stdout",
     "output_type": "stream",
     "text": [
      "Enter a number: 1\n",
      "ERROR INVALID INPUT/SHOULD BE BETWEEN 2 TO 5\n"
     ]
    }
   ],
   "source": [
    "# #write a program to find the sum of integers string. \n",
    "# Raise an error if length of string is less than 2 and greater than 5\n",
    "\n",
    "class MyException(Exception):\n",
    "    def __init__(self,msg):\n",
    "        self.msg=msg\n",
    "n=input(\"Enter a number: \")\n",
    "try:\n",
    "    if len(n)<2 or len(n)>5:\n",
    "        raise MyException(\"ERROR INVALID INPUT/SHOULD BE BETWEEN 2 TO 5\")\n",
    "except MyException as Argument:\n",
    "    print(Argument)\n",
    "else:\n",
    "    summ=0\n",
    "    l=list(n)\n",
    "    for i in l:\n",
    "        summ+=int(i)\n",
    "    print(summ)"
   ]
  },
  {
   "cell_type": "code",
   "execution_count": 106,
   "id": "5f2ae5c1",
   "metadata": {},
   "outputs": [
    {
     "name": "stdout",
     "output_type": "stream",
     "text": [
      "1234\n"
     ]
    }
   ],
   "source": [
    "from functools import reduce\n",
    "s='1234'\n",
    "l=list(s)\n",
    "x=reduce(lambda x,y:x+y,l)\n",
    "print(x)"
   ]
  },
  {
   "cell_type": "code",
   "execution_count": 101,
   "id": "2c780d0a",
   "metadata": {},
   "outputs": [
    {
     "name": "stdout",
     "output_type": "stream",
     "text": [
      "10\n"
     ]
    }
   ],
   "source": [
    "from functools import reduce\n",
    "\n",
    "l=[1,2,3,4]\n",
    "x=reduce(lambda x,y:x+y,l)\n",
    "print(x)"
   ]
  },
  {
   "cell_type": "code",
   "execution_count": null,
   "id": "19c03082",
   "metadata": {},
   "outputs": [],
   "source": [
    "3 UNIT END"
   ]
  },
  {
   "cell_type": "markdown",
   "id": "8213fc64",
   "metadata": {},
   "source": [
    "### DATE:01-03-24\n"
   ]
  },
  {
   "cell_type": "code",
   "execution_count": null,
   "id": "162e6a9c",
   "metadata": {},
   "outputs": [],
   "source": []
  },
  {
   "cell_type": "code",
   "execution_count": 1,
   "id": "ad902597",
   "metadata": {},
   "outputs": [
    {
     "ename": "NameError",
     "evalue": "name 'condition' is not defined",
     "output_type": "error",
     "traceback": [
      "\u001b[1;31m---------------------------------------------------------------------------\u001b[0m",
      "\u001b[1;31mNameError\u001b[0m                                 Traceback (most recent call last)",
      "Cell \u001b[1;32mIn[1], line 1\u001b[0m\n\u001b[1;32m----> 1\u001b[0m \u001b[38;5;28;01massert\u001b[39;00m condition, \u001b[38;5;124m\"\u001b[39m\u001b[38;5;124mmessage\u001b[39m\u001b[38;5;124m\"\u001b[39m\n",
      "\u001b[1;31mNameError\u001b[0m: name 'condition' is not defined"
     ]
    }
   ],
   "source": [
    "assert condition, \"message\""
   ]
  },
  {
   "cell_type": "code",
   "execution_count": 2,
   "id": "453ff759",
   "metadata": {},
   "outputs": [
    {
     "ename": "AssertionError",
     "evalue": "",
     "output_type": "error",
     "traceback": [
      "\u001b[1;31m---------------------------------------------------------------------------\u001b[0m",
      "\u001b[1;31mAssertionError\u001b[0m                            Traceback (most recent call last)",
      "Cell \u001b[1;32mIn[2], line 3\u001b[0m\n\u001b[0;32m      1\u001b[0m x\u001b[38;5;241m=\u001b[39m\u001b[38;5;124m'\u001b[39m\u001b[38;5;124mprime\u001b[39m\u001b[38;5;124m'\u001b[39m\n\u001b[0;32m      2\u001b[0m \u001b[38;5;28;01massert\u001b[39;00m x\u001b[38;5;241m==\u001b[39m\u001b[38;5;124m'\u001b[39m\u001b[38;5;124mprime\u001b[39m\u001b[38;5;124m'\u001b[39m\n\u001b[1;32m----> 3\u001b[0m \u001b[38;5;28;01massert\u001b[39;00m x\u001b[38;5;241m==\u001b[39m\u001b[38;5;124m'\u001b[39m\u001b[38;5;124mnotprime\u001b[39m\u001b[38;5;124m'\u001b[39m\n",
      "\u001b[1;31mAssertionError\u001b[0m: "
     ]
    }
   ],
   "source": [
    "x='prime'\n",
    "assert x=='prime'\n",
    "assert x=='notprime'"
   ]
  },
  {
   "cell_type": "code",
   "execution_count": 5,
   "id": "19412b30",
   "metadata": {},
   "outputs": [
    {
     "name": "stdout",
     "output_type": "stream",
     "text": [
      "103\n",
      "exception has occured- number is more than 100\n"
     ]
    }
   ],
   "source": [
    "n=input()\n",
    "try:\n",
    "    x=int(n)\n",
    "    assert x<=100, 'number is more than 100'\n",
    "except Exception as obj:\n",
    "    print(\"exception has occured-\",obj)"
   ]
  },
  {
   "cell_type": "code",
   "execution_count": 4,
   "id": "88d867fb",
   "metadata": {},
   "outputs": [
    {
     "name": "stdout",
     "output_type": "stream",
     "text": [
      "my name is ayush singh\n",
      "ym eman si hsuya hgnis\n"
     ]
    }
   ],
   "source": [
    "# write a program to except a sentence from the user and print the sentence \n",
    "# with the words reversed at the respective position\n",
    "\n",
    "def reverse_s(s):\n",
    "    c=''\n",
    "    s=s.split()\n",
    "    for i in s:\n",
    "        if c:\n",
    "            c=c+\" \"+i[::-1]\n",
    "        else:\n",
    "            c=c+i[::-1]\n",
    "    return c\n",
    "s=input()\n",
    "print(reverse_s(s))"
   ]
  },
  {
   "cell_type": "markdown",
   "id": "6133e7ee",
   "metadata": {},
   "source": [
    "## DATE-04-03-24"
   ]
  },
  {
   "cell_type": "code",
   "execution_count": 6,
   "id": "3ffa7877",
   "metadata": {},
   "outputs": [
    {
     "name": "stdout",
     "output_type": "stream",
     "text": [
      "rahul\n",
      "False\n"
     ]
    }
   ],
   "source": [
    "s=input()\n",
    "if s[0]==\"N\":\n",
    "    print(True)\n",
    "else:\n",
    "    print(False)"
   ]
  },
  {
   "cell_type": "code",
   "execution_count": 58,
   "id": "5a6b83c8",
   "metadata": {},
   "outputs": [
    {
     "name": "stdout",
     "output_type": "stream",
     "text": [
      "ayush\n",
      "False\n"
     ]
    }
   ],
   "source": [
    "check=lambda s:s[0]=='N'\n",
    "s=input()\n",
    "print(check(s))"
   ]
  },
  {
   "cell_type": "code",
   "execution_count": 35,
   "id": "c827bca9",
   "metadata": {},
   "outputs": [
    {
     "name": "stdout",
     "output_type": "stream",
     "text": [
      "Sum of odd: 8\n",
      "Sum of even: 28\n"
     ]
    }
   ],
   "source": [
    "l=[2,5,6,8,10,3,2]\n",
    "odd=sum(i for i in l if i%2!=0)\n",
    "even=sum(i for i in l if i%2==0)\n",
    "print('Sum of odd:',odd)\n",
    "print('Sum of even:',even)"
   ]
  },
  {
   "cell_type": "code",
   "execution_count": 65,
   "id": "9577b3b1",
   "metadata": {},
   "outputs": [
    {
     "name": "stdout",
     "output_type": "stream",
     "text": [
      "Odd sum 8\n",
      "Even sum 28\n"
     ]
    }
   ],
   "source": [
    "l=[2,5,6,8,10,3,2]\n",
    "print('Odd sum',sum(list(filter(lambda x:x%2!=0,l))))\n",
    "print('Even sum',sum(list(filter(lambda x:x%2==0,l))))"
   ]
  },
  {
   "cell_type": "code",
   "execution_count": 78,
   "id": "9d62c5ac",
   "metadata": {},
   "outputs": [
    {
     "name": "stdout",
     "output_type": "stream",
     "text": [
      "odd sum 8\n",
      "Even sum 28\n"
     ]
    }
   ],
   "source": [
    "l=[2,5,6,8,10,3,2]\n",
    "odd_sum=list(filter(lambda x:x%2!=0,l))\n",
    "print('odd sum',sum(odd_sum))\n",
    "print('Even sum', sum(l)-sum(odd_sum))"
   ]
  },
  {
   "cell_type": "code",
   "execution_count": 87,
   "id": "9b1a87ce",
   "metadata": {},
   "outputs": [
    {
     "name": "stdout",
     "output_type": "stream",
     "text": [
      "[] []\n",
      "0\n",
      "0\n"
     ]
    }
   ],
   "source": [
    "l=[2,5,6,8,10,3,2]\n",
    "es=[]\n",
    "os=[]\n",
    "map(lambda x: es.append(x) if x%2==0 else os.append(x),l)\n",
    "print(es,os)\n",
    "print(sum(es))\n",
    "print(sum(os))"
   ]
  },
  {
   "cell_type": "code",
   "execution_count": null,
   "id": "dc457804",
   "metadata": {},
   "outputs": [],
   "source": []
  },
  {
   "cell_type": "code",
   "execution_count": null,
   "id": "0e3c2964",
   "metadata": {},
   "outputs": [],
   "source": []
  }
 ],
 "metadata": {
  "kernelspec": {
   "display_name": "Python 3 (ipykernel)",
   "language": "python",
   "name": "python3"
  },
  "language_info": {
   "codemirror_mode": {
    "name": "ipython",
    "version": 3
   },
   "file_extension": ".py",
   "mimetype": "text/x-python",
   "name": "python",
   "nbconvert_exporter": "python",
   "pygments_lexer": "ipython3",
   "version": "3.11.5"
  }
 },
 "nbformat": 4,
 "nbformat_minor": 5
}
