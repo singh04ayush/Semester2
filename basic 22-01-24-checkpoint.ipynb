{
 "cells": [
  {
   "cell_type": "code",
   "execution_count": 1,
   "id": "8d4b3474",
   "metadata": {},
   "outputs": [
    {
     "data": {
      "text/plain": [
       "['__doc__',\n",
       " '__loader__',\n",
       " '__name__',\n",
       " '__package__',\n",
       " '__spec__',\n",
       " 'acos',\n",
       " 'acosh',\n",
       " 'asin',\n",
       " 'asinh',\n",
       " 'atan',\n",
       " 'atan2',\n",
       " 'atanh',\n",
       " 'cbrt',\n",
       " 'ceil',\n",
       " 'comb',\n",
       " 'copysign',\n",
       " 'cos',\n",
       " 'cosh',\n",
       " 'degrees',\n",
       " 'dist',\n",
       " 'e',\n",
       " 'erf',\n",
       " 'erfc',\n",
       " 'exp',\n",
       " 'exp2',\n",
       " 'expm1',\n",
       " 'fabs',\n",
       " 'factorial',\n",
       " 'floor',\n",
       " 'fmod',\n",
       " 'frexp',\n",
       " 'fsum',\n",
       " 'gamma',\n",
       " 'gcd',\n",
       " 'hypot',\n",
       " 'inf',\n",
       " 'isclose',\n",
       " 'isfinite',\n",
       " 'isinf',\n",
       " 'isnan',\n",
       " 'isqrt',\n",
       " 'lcm',\n",
       " 'ldexp',\n",
       " 'lgamma',\n",
       " 'log',\n",
       " 'log10',\n",
       " 'log1p',\n",
       " 'log2',\n",
       " 'modf',\n",
       " 'nan',\n",
       " 'nextafter',\n",
       " 'perm',\n",
       " 'pi',\n",
       " 'pow',\n",
       " 'prod',\n",
       " 'radians',\n",
       " 'remainder',\n",
       " 'sin',\n",
       " 'sinh',\n",
       " 'sqrt',\n",
       " 'tan',\n",
       " 'tanh',\n",
       " 'tau',\n",
       " 'trunc',\n",
       " 'ulp']"
      ]
     },
     "execution_count": 1,
     "metadata": {},
     "output_type": "execute_result"
    }
   ],
   "source": [
    "import math\n",
    "dir(math)"
   ]
  },
  {
   "cell_type": "code",
   "execution_count": 2,
   "id": "0f72e52f",
   "metadata": {},
   "outputs": [
    {
     "name": "stdout",
     "output_type": "stream",
     "text": [
      "Find n!.\n",
      "\n",
      "Raise a ValueError if x is negative or non-integral.\n"
     ]
    }
   ],
   "source": [
    "print(math.factorial.__doc__)"
   ]
  },
  {
   "cell_type": "code",
   "execution_count": 10,
   "id": "7d4eba6d",
   "metadata": {},
   "outputs": [
    {
     "name": "stdout",
     "output_type": "stream",
     "text": [
      "Enter radius:-5\n",
      "78.5\n"
     ]
    }
   ],
   "source": [
    "x=int(input(\"Enter radius:\"))\n",
    "PI=3.14\n",
    "area=PI*x*x\n",
    "print(area)"
   ]
  },
  {
   "cell_type": "code",
   "execution_count": 11,
   "id": "b46ff62e",
   "metadata": {},
   "outputs": [
    {
     "name": "stdout",
     "output_type": "stream",
     "text": [
      "-2\n"
     ]
    }
   ],
   "source": [
    "x=-5//3\n",
    "print(x) #integer division with lowest integer"
   ]
  },
  {
   "cell_type": "code",
   "execution_count": 12,
   "id": "c2bc3a45",
   "metadata": {},
   "outputs": [
    {
     "name": "stdout",
     "output_type": "stream",
     "text": [
      "4\n",
      "-1\n",
      "1\n",
      "-4\n"
     ]
    }
   ],
   "source": [
    "a=9\n",
    "b=5\n",
    "print(a%b)\n",
    "print(a%-b)\n",
    "print(-a%b)\n",
    "print(-a%-b)"
   ]
  },
  {
   "cell_type": "code",
   "execution_count": 30,
   "id": "1e627677",
   "metadata": {},
   "outputs": [
    {
     "name": "stdout",
     "output_type": "stream",
     "text": [
      "Enter your height in inches:74\n",
      "height is 6 2\n"
     ]
    }
   ],
   "source": [
    "x=int(input(\"Enter your height in inches:\"))\n",
    "y= x//12\n",
    "z=x%12\n",
    "print(\"height is\",y,z)"
   ]
  },
  {
   "cell_type": "markdown",
   "id": "b9bb4c53",
   "metadata": {},
   "source": [
    "#### "
   ]
  },
  {
   "cell_type": "code",
   "execution_count": 23,
   "id": "94008b1f",
   "metadata": {},
   "outputs": [
    {
     "name": "stdout",
     "output_type": "stream",
     "text": [
      "0\n"
     ]
    }
   ],
   "source": [
    "a=0\n",
    "b=200\n",
    "print(a and b)"
   ]
  },
  {
   "cell_type": "code",
   "execution_count": 10,
   "id": "edb97ae7",
   "metadata": {},
   "outputs": [
    {
     "name": "stdout",
     "output_type": "stream",
     "text": [
      "enter a year:1640\n",
      "it is a leap year\n"
     ]
    }
   ],
   "source": [
    "x=int(input(\"enter a year:\"))\n",
    "if(x%4==0 and x%100!=0 or x%400==0):\n",
    "    print(\"it is a leap year\")\n",
    "else:\n",
    "    print(\"it is not a leap year\")\n",
    "        \n",
    "        \n"
   ]
  },
  {
   "cell_type": "code",
   "execution_count": 5,
   "id": "5b25c6c2",
   "metadata": {},
   "outputs": [
    {
     "data": {
      "text/plain": [
       "False"
      ]
     },
     "execution_count": 5,
     "metadata": {},
     "output_type": "execute_result"
    }
   ],
   "source": [
    "a=500\n",
    "b=500\n",
    "a is b\n",
    "id(a)\n",
    "id(b)\n",
    "a is b"
   ]
  },
  {
   "cell_type": "code",
   "execution_count": 45,
   "id": "bbd91eaa",
   "metadata": {},
   "outputs": [
    {
     "name": "stdout",
     "output_type": "stream",
     "text": [
      "-14\n"
     ]
    }
   ],
   "source": [
    "a=13\n",
    "b=~a\n",
    "print(b)"
   ]
  },
  {
   "cell_type": "code",
   "execution_count": 61,
   "id": "d5341e79",
   "metadata": {},
   "outputs": [
    {
     "name": "stdout",
     "output_type": "stream",
     "text": [
      "9\n"
     ]
    }
   ],
   "source": [
    "l=[1,2,3,4,5]\n",
    "print(sum(list([i for i in l if i%2!=0])))     \n",
    "    "
   ]
  },
  {
   "cell_type": "code",
   "execution_count": 62,
   "id": "b2cb98d5",
   "metadata": {},
   "outputs": [
    {
     "name": "stdout",
     "output_type": "stream",
     "text": [
      "0\n",
      "1\n",
      "1\n",
      "2\n",
      "3\n",
      "5\n",
      "8\n"
     ]
    }
   ],
   "source": [
    "a, b=0, 1\n",
    "while a<10:\n",
    "    print(a)\n",
    "    a, b=b, a+b"
   ]
  },
  {
   "cell_type": "code",
   "execution_count": 55,
   "id": "e6e5ce93",
   "metadata": {},
   "outputs": [],
   "source": []
  },
  {
   "cell_type": "code",
   "execution_count": 1,
   "id": "12a7a443",
   "metadata": {},
   "outputs": [
    {
     "name": "stdout",
     "output_type": "stream",
     "text": [
      "you can vote\n"
     ]
    }
   ],
   "source": [
    "#terniaray operator\n",
    "age=20\n",
    "message=\"you can vote\" if age >=18 else \"you cannot vote yet\"\n",
    "print(message)"
   ]
  },
  {
   "cell_type": "code",
   "execution_count": 3,
   "id": "06957871",
   "metadata": {},
   "outputs": [
    {
     "name": "stdout",
     "output_type": "stream",
     "text": [
      "you can vote\n",
      "you cannot vote yet\n"
     ]
    }
   ],
   "source": [
    "# can use conditional statements directly in function arguments\n",
    "\n",
    "def greeting(age):\n",
    "    message=\"you can vote\" if age >=18 else \"you cannot vote yet\"\n",
    "    print(message)\n",
    "    \n",
    "greeting(19)\n",
    "greeting(16)"
   ]
  },
  {
   "cell_type": "code",
   "execution_count": 9,
   "id": "4dad3c2b",
   "metadata": {},
   "outputs": [
    {
     "name": "stdout",
     "output_type": "stream",
     "text": [
      "x is between 10 and 20\n",
      "enter marks 80\n",
      "A\n"
     ]
    }
   ],
   "source": [
    "#channed comparisions\n",
    "#python allows multiple comparisions\n",
    "\n",
    "x=18\n",
    "if 10<x<20:\n",
    "    print(\"x is between 10 and 20\")\n",
    "    \n",
    "marks=int(input(\"enter marks \"))\n",
    "if 80<=marks<=100:\n",
    "    print('A')\n",
    "    \n",
    "if 60<=marks<80:\n",
    "    print('B')\n",
    "    \n",
    "if 40<=marks<60:\n",
    "    print('C')\n",
    "    \n",
    "if marks<40:\n",
    "    print('FAIL')\n",
    "    \n"
   ]
  },
  {
   "cell_type": "code",
   "execution_count": 10,
   "id": "2c96b569",
   "metadata": {},
   "outputs": [
    {
     "name": "stdout",
     "output_type": "stream",
     "text": [
      "All Numbers are Even\n"
     ]
    }
   ],
   "source": [
    "# all and any in bulit function\n",
    "\n",
    "x=[2,4,6,8,10,12]\n",
    "if all (y%2==0 for y in x ):\n",
    "    print('All Numbers are Even')\n",
    "else:\n",
    "    print('All Numbers are not Even')"
   ]
  },
  {
   "cell_type": "code",
   "execution_count": 12,
   "id": "374112f5",
   "metadata": {},
   "outputs": [
    {
     "name": "stdout",
     "output_type": "stream",
     "text": [
      "Number is Even\n"
     ]
    }
   ],
   "source": [
    "x=[1,3,6,7,19,13]\n",
    "if any (y%2==0 for y in x ):\n",
    "    print('Number is Even')\n",
    "else:\n",
    "    print('Numbers are not Even')"
   ]
  },
  {
   "cell_type": "code",
   "execution_count": 14,
   "id": "a1ee5194",
   "metadata": {},
   "outputs": [
    {
     "name": "stdout",
     "output_type": "stream",
     "text": [
      "condition meet\n"
     ]
    }
   ],
   "source": [
    "#python uses short circuit evaluation for logical operators\n",
    "# or fuction\n",
    "x=5\n",
    "if x==5 or some_fuction():\n",
    "    print('condition meet')"
   ]
  },
  {
   "cell_type": "code",
   "execution_count": 15,
   "id": "7e7aed84",
   "metadata": {},
   "outputs": [
    {
     "ename": "NameError",
     "evalue": "name 'some_fuction' is not defined",
     "output_type": "error",
     "traceback": [
      "\u001b[1;31m---------------------------------------------------------------------------\u001b[0m",
      "\u001b[1;31mNameError\u001b[0m                                 Traceback (most recent call last)",
      "Cell \u001b[1;32mIn[15], line 2\u001b[0m\n\u001b[0;32m      1\u001b[0m x\u001b[38;5;241m=\u001b[39m\u001b[38;5;241m8\u001b[39m\n\u001b[1;32m----> 2\u001b[0m \u001b[38;5;28;01mif\u001b[39;00m x\u001b[38;5;241m==\u001b[39m\u001b[38;5;241m5\u001b[39m \u001b[38;5;129;01mor\u001b[39;00m some_fuction():\n\u001b[0;32m      3\u001b[0m     \u001b[38;5;28mprint\u001b[39m(\u001b[38;5;124m'\u001b[39m\u001b[38;5;124mcondition meet\u001b[39m\u001b[38;5;124m'\u001b[39m)\n",
      "\u001b[1;31mNameError\u001b[0m: name 'some_fuction' is not defined"
     ]
    }
   ],
   "source": [
    "x=8  #error \n",
    "if x==5 or some_fuction():\n",
    "    print('condition meet')"
   ]
  },
  {
   "cell_type": "code",
   "execution_count": 16,
   "id": "84e40522",
   "metadata": {},
   "outputs": [
    {
     "name": "stdout",
     "output_type": "stream",
     "text": [
      "false\n"
     ]
    }
   ],
   "source": [
    "#try 0 1 and None\n",
    "if None:\n",
    "    print('true')\n",
    "else:\n",
    "    print('false')"
   ]
  },
  {
   "cell_type": "code",
   "execution_count": 17,
   "id": "2c0ddf09",
   "metadata": {},
   "outputs": [
    {
     "name": "stdout",
     "output_type": "stream",
     "text": [
      "false\n"
     ]
    }
   ],
   "source": [
    "if 0:\n",
    "    print('true')\n",
    "else:\n",
    "    print('false')"
   ]
  },
  {
   "cell_type": "code",
   "execution_count": 18,
   "id": "c737bc0e",
   "metadata": {},
   "outputs": [
    {
     "name": "stdout",
     "output_type": "stream",
     "text": [
      "true\n"
     ]
    }
   ],
   "source": [
    "if 1:\n",
    "    print('true')\n",
    "else:\n",
    "    print('false')"
   ]
  },
  {
   "cell_type": "code",
   "execution_count": 19,
   "id": "9cda7a17",
   "metadata": {},
   "outputs": [
    {
     "name": "stdout",
     "output_type": "stream",
     "text": [
      "x is not greater than 5\n",
      "end of if\n"
     ]
    }
   ],
   "source": [
    "\"\"\"pass statement\"\"\"\n",
    "# if yu want a statement synticatically but dont want to do anything \n",
    "x=10\n",
    "if x<5:\n",
    "    pass\n",
    "else:\n",
    "    print('x is not greater than 5')\n",
    "print('end of if')"
   ]
  },
  {
   "cell_type": "code",
   "execution_count": 20,
   "id": "a95a774d",
   "metadata": {},
   "outputs": [
    {
     "name": "stdout",
     "output_type": "stream",
     "text": [
      "end of if\n"
     ]
    }
   ],
   "source": [
    "x=1\n",
    "if x<5:\n",
    "    pass\n",
    "else:\n",
    "    print('x is not greater than 5')\n",
    "print('end of if')"
   ]
  },
  {
   "cell_type": "code",
   "execution_count": 6,
   "id": "db817339",
   "metadata": {},
   "outputs": [
    {
     "ename": "AssertionError",
     "evalue": "should be grater than 5",
     "output_type": "error",
     "traceback": [
      "\u001b[1;31m---------------------------------------------------------------------------\u001b[0m",
      "\u001b[1;31mAssertionError\u001b[0m                            Traceback (most recent call last)",
      "Cell \u001b[1;32mIn[6], line 4\u001b[0m\n\u001b[0;32m      1\u001b[0m \u001b[38;5;66;03m#assertions using assert function\u001b[39;00m\n\u001b[0;32m      3\u001b[0m x\u001b[38;5;241m=\u001b[39m\u001b[38;5;241m10\u001b[39m\n\u001b[1;32m----> 4\u001b[0m \u001b[38;5;28;01massert\u001b[39;00m x\u001b[38;5;241m<\u001b[39m\u001b[38;5;241m5\u001b[39m,\u001b[38;5;124m\"\u001b[39m\u001b[38;5;124mshould be grater than 5\u001b[39m\u001b[38;5;124m\"\u001b[39m\n\u001b[0;32m      5\u001b[0m \u001b[38;5;28mprint\u001b[39m(\u001b[38;5;124m'\u001b[39m\u001b[38;5;124mdone\u001b[39m\u001b[38;5;124m'\u001b[39m)\n",
      "\u001b[1;31mAssertionError\u001b[0m: should be grater than 5"
     ]
    }
   ],
   "source": [
    "#assertions using assert function\n",
    "\n",
    "x=10\n",
    "assert x<5,\"should be grater than 5\"\n",
    "print('done')"
   ]
  },
  {
   "cell_type": "code",
   "execution_count": 1,
   "id": "9bf9de7b",
   "metadata": {},
   "outputs": [
    {
     "name": "stdout",
     "output_type": "stream",
     "text": [
      "ayush is 20 years old and 6 feet long\n",
      "jitu is 19 years old and 5.6 feet long\n",
      "aftab is 24 years old and 4 feet long\n"
     ]
    }
   ],
   "source": [
    "#use the zip function to iterate over multiple iteration\n",
    "\n",
    "names=['ayush','jitu','aftab']\n",
    "ages=[20,19,24]\n",
    "height=[6,5.6,4]\n",
    "for names, age, height in zip(names, ages, height):\n",
    "    print(\"{} is {} years old and {} feet long\".format(names,age,height))"
   ]
  },
  {
   "cell_type": "code",
   "execution_count": 18,
   "id": "51fcdb07",
   "metadata": {},
   "outputs": [
    {
     "name": "stdout",
     "output_type": "stream",
     "text": [
      "(2, 3)\n",
      "('ab', 'bc')\n"
     ]
    }
   ],
   "source": [
    "a=[2,3,4]\n",
    "b=['ab','bc']\n",
    "d=zip(a,b)\n",
    "x,y=zip(*d)\n",
    "print(x)\n",
    "print(y)"
   ]
  },
  {
   "cell_type": "code",
   "execution_count": 19,
   "id": "99948607",
   "metadata": {},
   "outputs": [
    {
     "name": "stdout",
     "output_type": "stream",
     "text": [
      "zip(*iterables, strict=False) --> Yield tuples until an input is exhausted.\n",
      "\n",
      "   >>> list(zip('abcdefg', range(3), range(4)))\n",
      "   [('a', 0, 0), ('b', 1, 1), ('c', 2, 2)]\n",
      "\n",
      "The zip object yields n-length tuples, where n is the number of iterables\n",
      "passed as positional arguments to zip().  The i-th element in every tuple\n",
      "comes from the i-th iterable argument to zip().  This continues until the\n",
      "shortest argument is exhausted.\n",
      "\n",
      "If strict is true and one of the arguments is exhausted before the others,\n",
      "raise a ValueError.\n"
     ]
    }
   ],
   "source": [
    "print(zip.__doc__)"
   ]
  },
  {
   "cell_type": "code",
   "execution_count": 20,
   "id": "06b94e6d",
   "metadata": {},
   "outputs": [
    {
     "name": "stdout",
     "output_type": "stream",
     "text": [
      "2 ab\n",
      "3 bc\n"
     ]
    }
   ],
   "source": [
    "a=[2,3,4]\n",
    "b=['ab','bc']\n",
    "d=zip(a,b)\n",
    "for i,j in d:\n",
    "    print(i,j)"
   ]
  },
  {
   "cell_type": "code",
   "execution_count": 24,
   "id": "4c99f657",
   "metadata": {},
   "outputs": [
    {
     "name": "stdout",
     "output_type": "stream",
     "text": [
      "Ayush 5\n",
      "Jitu 4\n",
      "Aftab 5\n"
     ]
    }
   ],
   "source": [
    "l=['Ayush','Jitu','Aftab']\n",
    "for i in l:\n",
    "    print(i,len(i))"
   ]
  },
  {
   "cell_type": "code",
   "execution_count": 44,
   "id": "4b57ad69",
   "metadata": {},
   "outputs": [
    {
     "ename": "NameError",
     "evalue": "name 'status' is not defined",
     "output_type": "error",
     "traceback": [
      "\u001b[1;31m---------------------------------------------------------------------------\u001b[0m",
      "\u001b[1;31mNameError\u001b[0m                                 Traceback (most recent call last)",
      "Cell \u001b[1;32mIn[44], line 5\u001b[0m\n\u001b[0;32m      3\u001b[0m nonact\u001b[38;5;241m=\u001b[39m{}\n\u001b[0;32m      4\u001b[0m \u001b[38;5;28;01mfor\u001b[39;00m keys \u001b[38;5;129;01min\u001b[39;00m sharda\u001b[38;5;241m.\u001b[39mitems():\n\u001b[1;32m----> 5\u001b[0m     \u001b[38;5;28;01mif\u001b[39;00m status \u001b[38;5;241m==\u001b[39m \u001b[38;5;124m'\u001b[39m\u001b[38;5;124mactive\u001b[39m\u001b[38;5;124m'\u001b[39m:\n\u001b[0;32m      6\u001b[0m          act[key]\u001b[38;5;241m=\u001b[39mvalue\n\u001b[0;32m      7\u001b[0m     \u001b[38;5;28;01melse\u001b[39;00m:\n",
      "\u001b[1;31mNameError\u001b[0m: name 'status' is not defined"
     ]
    }
   ],
   "source": [
    "sharda={'yasa':'active','nihar':'active','sumit':'unactive','rahul':'unactive'}\n",
    "act={}\n",
    "nonact={}\n",
    "for keys in sharda.items():\n",
    "    if status == 'active':\n",
    "         act[key]=value\n",
    "    else:\n",
    "        nonact[key]=value\n",
    "print(act)\n",
    "print(nonact)\n",
    " "
   ]
  },
  {
   "cell_type": "code",
   "execution_count": 7,
   "id": "92c47c14",
   "metadata": {},
   "outputs": [
    {
     "name": "stdout",
     "output_type": "stream",
     "text": [
      "enter a number: 6\n",
      "0b110\n"
     ]
    }
   ],
   "source": [
    "x=int(input('enter a number: '))\n",
    "z=(bin(x))\n",
    "print(z)\n",
    "#convert to list"
   ]
  },
  {
   "cell_type": "code",
   "execution_count": 9,
   "id": "513dbdb5",
   "metadata": {},
   "outputs": [
    {
     "name": "stdout",
     "output_type": "stream",
     "text": [
      "Enter a number: -36\n",
      "False\n"
     ]
    }
   ],
   "source": [
    "def is_prime(n):\n",
    "    if (n <= 1):\n",
    "        return False\n",
    "    if (n <= 3):\n",
    "        return True\n",
    "    if (n % 2 == 0 or n % 3 == 0):\n",
    "        return False\n",
    "    i = 5\n",
    "    while i * i <= n:\n",
    "        if n % i == 0 or n % (i + 2) == 0:\n",
    "            return False\n",
    "        i += 6\n",
    "    return True\n",
    "\n",
    "def primepartition(m):\n",
    "    if m < 2:\n",
    "        return False\n",
    "    for i in range(2, m):\n",
    "        if is_prime(i) and is_prime(m - i):\n",
    "            return True\n",
    "    return False\n",
    "m = int(input(\"Enter a number: \"))\n",
    "if primepartition(m):\n",
    "    print(\"True\")\n",
    "else:\n",
    "    print(\"False\")"
   ]
  },
  {
   "cell_type": "code",
   "execution_count": null,
   "id": "2d829016",
   "metadata": {},
   "outputs": [],
   "source": []
  }
 ],
 "metadata": {
  "kernelspec": {
   "display_name": "Python 3 (ipykernel)",
   "language": "python",
   "name": "python3"
  },
  "language_info": {
   "codemirror_mode": {
    "name": "ipython",
    "version": 3
   },
   "file_extension": ".py",
   "mimetype": "text/x-python",
   "name": "python",
   "nbconvert_exporter": "python",
   "pygments_lexer": "ipython3",
   "version": "3.11.5"
  }
 },
 "nbformat": 4,
 "nbformat_minor": 5
}
