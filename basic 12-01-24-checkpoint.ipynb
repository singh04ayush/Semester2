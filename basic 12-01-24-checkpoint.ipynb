{
 "cells": [
  {
   "cell_type": "code",
   "execution_count": 1,
   "id": "12a4ce3c",
   "metadata": {},
   "outputs": [
    {
     "name": "stdout",
     "output_type": "stream",
     "text": [
      "hello\n"
     ]
    }
   ],
   "source": [
    "print(\"hello\")"
   ]
  },
  {
   "cell_type": "code",
   "execution_count": 2,
   "id": "0c0964f7",
   "metadata": {},
   "outputs": [
    {
     "name": "stdout",
     "output_type": "stream",
     "text": [
      "world\n"
     ]
    }
   ],
   "source": [
    "print('world')"
   ]
  },
  {
   "cell_type": "code",
   "execution_count": 6,
   "id": "942222b8",
   "metadata": {},
   "outputs": [
    {
     "data": {
      "text/plain": [
       "int"
      ]
     },
     "execution_count": 6,
     "metadata": {},
     "output_type": "execute_result"
    }
   ],
   "source": [
    "a=12\n",
    "type(a)"
   ]
  },
  {
   "cell_type": "code",
   "execution_count": 7,
   "id": "771c8f94",
   "metadata": {},
   "outputs": [
    {
     "name": "stdout",
     "output_type": "stream",
     "text": [
      "12\n"
     ]
    }
   ],
   "source": [
    "print(a)"
   ]
  },
  {
   "cell_type": "code",
   "execution_count": 8,
   "id": "cb78f0b5",
   "metadata": {},
   "outputs": [
    {
     "ename": "SyntaxError",
     "evalue": "Missing parentheses in call to 'print'. Did you mean print(...)? (2947294964.py, line 1)",
     "output_type": "error",
     "traceback": [
      "\u001b[1;36m  Cell \u001b[1;32mIn[8], line 1\u001b[1;36m\u001b[0m\n\u001b[1;33m    print a\u001b[0m\n\u001b[1;37m    ^\u001b[0m\n\u001b[1;31mSyntaxError\u001b[0m\u001b[1;31m:\u001b[0m Missing parentheses in call to 'print'. Did you mean print(...)?\n"
     ]
    }
   ],
   "source": [
    "print a"
   ]
  },
  {
   "cell_type": "code",
   "execution_count": 25,
   "id": "de4c66f0",
   "metadata": {},
   "outputs": [
    {
     "name": "stdout",
     "output_type": "stream",
     "text": [
      "\ttwinkle twinkle twinkle little star\n",
      "\n",
      "how i wonder\t\t\thow you are\n",
      "\n",
      "up above the wolrd\t\tso high\n",
      "\n",
      "\tlike a diamond in the sky\n",
      "\n"
     ]
    }
   ],
   "source": [
    "print('\\ttwinkle twinkle twinkle little star\\n')\n",
    "print('how i wonder\\t\\t\\thow you are\\n')\n",
    "print('up above the wolrd\\t\\tso high\\n')\n",
    "print('\\tlike a diamond in the sky\\n')"
   ]
  },
  {
   "cell_type": "code",
   "execution_count": 28,
   "id": "39a97a99",
   "metadata": {},
   "outputs": [
    {
     "name": "stdout",
     "output_type": "stream",
     "text": [
      "['False', 'None', 'True', 'and', 'as', 'assert', 'async', 'await', 'break', 'class', 'continue', 'def', 'del', 'elif', 'else', 'except', 'finally', 'for', 'from', 'global', 'if', 'import', 'in', 'is', 'lambda', 'nonlocal', 'not', 'or', 'pass', 'raise', 'return', 'try', 'while', 'with', 'yield']\n",
      "35\n"
     ]
    }
   ],
   "source": [
    "import keyword\n",
    "print(keyword.kwlist)\n",
    "print(len(keyword.kwlist))"
   ]
  },
  {
   "cell_type": "code",
   "execution_count": 29,
   "id": "f08b6670",
   "metadata": {},
   "outputs": [
    {
     "name": "stdout",
     "output_type": "stream",
     "text": [
      "140718573982856\n"
     ]
    }
   ],
   "source": [
    "a=12\n",
    "print(id(a))"
   ]
  },
  {
   "cell_type": "code",
   "execution_count": 31,
   "id": "fe13ee50",
   "metadata": {},
   "outputs": [
    {
     "name": "stdout",
     "output_type": "stream",
     "text": [
      "<class 'bool'>\n"
     ]
    }
   ],
   "source": [
    "a=False\n",
    "print(type(a))"
   ]
  },
  {
   "cell_type": "code",
   "execution_count": 33,
   "id": "516173d1",
   "metadata": {},
   "outputs": [
    {
     "name": "stdout",
     "output_type": "stream",
     "text": [
      "this is an online AI COURSE\n",
      "i am ayush singh\n",
      "my age is 20\n",
      "<class 'str'>\n",
      "multi line\n",
      "string here is\n",
      "shown\n"
     ]
    }
   ],
   "source": [
    "s=\"this is an online AI COURSE\"\n",
    "s1='i am ayush singh'\n",
    "s2='my age is 20'\n",
    "print(s)\n",
    "print(s1)\n",
    "print(s2)\n",
    "print(type(s2))\n",
    "s3=\"\"\"multi line\n",
    "string here is\n",
    "shown\"\"\"\n",
    "print(s3)"
   ]
  },
  {
   "cell_type": "code",
   "execution_count": 35,
   "id": "b7b5393d",
   "metadata": {},
   "outputs": [
    {
     "name": "stdout",
     "output_type": "stream",
     "text": [
      "5\n"
     ]
    }
   ],
   "source": [
    "a=\"12345679\"\n",
    "print(a[-4])"
   ]
  },
  {
   "cell_type": "code",
   "execution_count": 37,
   "id": "c738a74c",
   "metadata": {},
   "outputs": [
    {
     "data": {
      "text/plain": [
       "'345'"
      ]
     },
     "execution_count": 37,
     "metadata": {},
     "output_type": "execute_result"
    }
   ],
   "source": [
    "#slicing\n",
    "a[2:5]"
   ]
  },
  {
   "cell_type": "code",
   "execution_count": 38,
   "id": "af3f7cc8",
   "metadata": {},
   "outputs": [
    {
     "data": {
      "text/plain": [
       "'1234'"
      ]
     },
     "execution_count": 38,
     "metadata": {},
     "output_type": "execute_result"
    }
   ],
   "source": [
    "a[:4]"
   ]
  },
  {
   "cell_type": "code",
   "execution_count": 40,
   "id": "306c7e8f",
   "metadata": {},
   "outputs": [
    {
     "data": {
      "text/plain": [
       "'9'"
      ]
     },
     "execution_count": 40,
     "metadata": {},
     "output_type": "execute_result"
    }
   ],
   "source": [
    "a[7]"
   ]
  },
  {
   "cell_type": "code",
   "execution_count": 41,
   "id": "caffe919",
   "metadata": {},
   "outputs": [
    {
     "ename": "IndexError",
     "evalue": "string index out of range",
     "output_type": "error",
     "traceback": [
      "\u001b[1;31m---------------------------------------------------------------------------\u001b[0m",
      "\u001b[1;31mIndexError\u001b[0m                                Traceback (most recent call last)",
      "Cell \u001b[1;32mIn[41], line 1\u001b[0m\n\u001b[1;32m----> 1\u001b[0m a[\u001b[38;5;241m10\u001b[39m]\n",
      "\u001b[1;31mIndexError\u001b[0m: string index out of range"
     ]
    }
   ],
   "source": [
    "a[10]"
   ]
  },
  {
   "cell_type": "code",
   "execution_count": 49,
   "id": "f8c9e204",
   "metadata": {},
   "outputs": [
    {
     "name": "stdout",
     "output_type": "stream",
     "text": [
      "[10, 20.5, 'hello', (6+7j)]\n",
      "(6+7j)\n",
      "10\n",
      "[20.5, 'hello']\n",
      "(6+7j)\n",
      "10\n"
     ]
    }
   ],
   "source": [
    "a=[10, 20.5, \"hello\", 6+7j]\n",
    "print(a)\n",
    "print(a[3])\n",
    "print(a[0])\n",
    "print(a[1:3])\n",
    "print(a[-1])\n",
    "print(a[-4])"
   ]
  },
  {
   "cell_type": "code",
   "execution_count": 55,
   "id": "bc2339ee",
   "metadata": {},
   "outputs": [
    {
     "name": "stdout",
     "output_type": "stream",
     "text": [
      "150\n"
     ]
    }
   ],
   "source": [
    "a=[10,20,30,40,50]\n",
    "c=0\n",
    "for i in range(0,len(a)):\n",
    "    c=a[i]+c\n",
    "print(c)    \n"
   ]
  },
  {
   "cell_type": "code",
   "execution_count": 57,
   "id": "5af270b9",
   "metadata": {},
   "outputs": [
    {
     "name": "stdout",
     "output_type": "stream",
     "text": [
      "85.1\n"
     ]
    }
   ],
   "source": [
    "a=[10,20.6,34.5,20]\n",
    "c=0\n",
    "for i in range(0,len(a)):\n",
    "    c=a[i]+c\n",
    "print(c)    "
   ]
  },
  {
   "cell_type": "code",
   "execution_count": 58,
   "id": "b407cf27",
   "metadata": {},
   "outputs": [
    {
     "ename": "TypeError",
     "evalue": "can only concatenate str (not \"float\") to str",
     "output_type": "error",
     "traceback": [
      "\u001b[1;31m---------------------------------------------------------------------------\u001b[0m",
      "\u001b[1;31mTypeError\u001b[0m                                 Traceback (most recent call last)",
      "Cell \u001b[1;32mIn[58], line 4\u001b[0m\n\u001b[0;32m      2\u001b[0m c\u001b[38;5;241m=\u001b[39m\u001b[38;5;241m0\u001b[39m\n\u001b[0;32m      3\u001b[0m \u001b[38;5;28;01mfor\u001b[39;00m i \u001b[38;5;129;01min\u001b[39;00m \u001b[38;5;28mrange\u001b[39m(\u001b[38;5;241m0\u001b[39m,\u001b[38;5;28mlen\u001b[39m(a)):\n\u001b[1;32m----> 4\u001b[0m     c\u001b[38;5;241m=\u001b[39ma[i]\u001b[38;5;241m+\u001b[39mc\n\u001b[0;32m      5\u001b[0m \u001b[38;5;28mprint\u001b[39m(c)\n",
      "\u001b[1;31mTypeError\u001b[0m: can only concatenate str (not \"float\") to str"
     ]
    }
   ],
   "source": [
    "a=[10,20.6,\"hello\"]\n",
    "c=0\n",
    "for i in range(0,len(a)):\n",
    "    c=a[i]+c\n",
    "print(c)    "
   ]
  },
  {
   "cell_type": "code",
   "execution_count": 62,
   "id": "df028d90",
   "metadata": {},
   "outputs": [
    {
     "name": "stdout",
     "output_type": "stream",
     "text": [
      "(1, 1.5, 'ML')\n"
     ]
    },
    {
     "ename": "TypeError",
     "evalue": "'tuple' object does not support item assignment",
     "output_type": "error",
     "traceback": [
      "\u001b[1;31m---------------------------------------------------------------------------\u001b[0m",
      "\u001b[1;31mTypeError\u001b[0m                                 Traceback (most recent call last)",
      "Cell \u001b[1;32mIn[62], line 3\u001b[0m\n\u001b[0;32m      1\u001b[0m t\u001b[38;5;241m=\u001b[39m(\u001b[38;5;241m1\u001b[39m,\u001b[38;5;241m1.5\u001b[39m,\u001b[38;5;124m\"\u001b[39m\u001b[38;5;124mML\u001b[39m\u001b[38;5;124m\"\u001b[39m)\n\u001b[0;32m      2\u001b[0m \u001b[38;5;28mprint\u001b[39m(t)\n\u001b[1;32m----> 3\u001b[0m t[\u001b[38;5;241m1\u001b[39m]\u001b[38;5;241m=\u001b[39m\u001b[38;5;241m3\u001b[39m\n\u001b[0;32m      4\u001b[0m \u001b[38;5;28mprint\u001b[39m(t)\n",
      "\u001b[1;31mTypeError\u001b[0m: 'tuple' object does not support item assignment"
     ]
    }
   ],
   "source": [
    "#tuple is immutable\n",
    "t=(1,1.5,\"ML\")\n",
    "print(t)\n",
    "t[1]=3\n",
    "print(t)"
   ]
  },
  {
   "cell_type": "code",
   "execution_count": 63,
   "id": "de0b0516",
   "metadata": {},
   "outputs": [
    {
     "name": "stdout",
     "output_type": "stream",
     "text": [
      "[10, 23.5, 45]\n",
      "[10, 23.5, 20]\n"
     ]
    }
   ],
   "source": [
    "#list is mutable\n",
    "a=[10,23.5,45]\n",
    "print(a)\n",
    "a[2]=20\n",
    "print(a)"
   ]
  },
  {
   "cell_type": "code",
   "execution_count": 65,
   "id": "68988bd9",
   "metadata": {},
   "outputs": [
    {
     "ename": "TypeError",
     "evalue": "'tuple' object does not support item assignment",
     "output_type": "error",
     "traceback": [
      "\u001b[1;31m---------------------------------------------------------------------------\u001b[0m",
      "\u001b[1;31mTypeError\u001b[0m                                 Traceback (most recent call last)",
      "Cell \u001b[1;32mIn[65], line 2\u001b[0m\n\u001b[0;32m      1\u001b[0m a\u001b[38;5;241m=\u001b[39m(\u001b[38;5;241m10\u001b[39m,\u001b[38;5;241m20.4\u001b[39m,\u001b[38;5;124m\"\u001b[39m\u001b[38;5;124mhello\u001b[39m\u001b[38;5;124m\"\u001b[39m)\n\u001b[1;32m----> 2\u001b[0m a[\u001b[38;5;241m3\u001b[39m]\u001b[38;5;241m=\u001b[39m\u001b[38;5;241m11.6\u001b[39m\n\u001b[0;32m      3\u001b[0m \u001b[38;5;28mprint\u001b[39m(a)\n",
      "\u001b[1;31mTypeError\u001b[0m: 'tuple' object does not support item assignment"
     ]
    }
   ],
   "source": [
    "a=(10,20.4,\"hello\")\n",
    "a[3]=11.6\n",
    "print(a)"
   ]
  },
  {
   "cell_type": "code",
   "execution_count": 73,
   "id": "1fb6f901",
   "metadata": {},
   "outputs": [
    {
     "name": "stdout",
     "output_type": "stream",
     "text": [
      "{20, 5, 40, 10, 30}\n",
      "<class 'set'>\n",
      "1672938054464\n"
     ]
    },
    {
     "ename": "TypeError",
     "evalue": "'set' object is not subscriptable",
     "output_type": "error",
     "traceback": [
      "\u001b[1;31m---------------------------------------------------------------------------\u001b[0m",
      "\u001b[1;31mTypeError\u001b[0m                                 Traceback (most recent call last)",
      "Cell \u001b[1;32mIn[73], line 5\u001b[0m\n\u001b[0;32m      3\u001b[0m \u001b[38;5;28mprint\u001b[39m(\u001b[38;5;28mtype\u001b[39m(s))\n\u001b[0;32m      4\u001b[0m \u001b[38;5;28mprint\u001b[39m(\u001b[38;5;28mid\u001b[39m(s))\n\u001b[1;32m----> 5\u001b[0m \u001b[38;5;28mprint\u001b[39m(s[\u001b[38;5;241m1\u001b[39m])\n",
      "\u001b[1;31mTypeError\u001b[0m: 'set' object is not subscriptable"
     ]
    }
   ],
   "source": [
    "s={10,10,10,30,20,40,5}\n",
    "print(s)\n",
    "print(type(s))\n",
    "print(id(s))\n",
    "print(s[1])\n",
    "#index does not work on sets"
   ]
  },
  {
   "cell_type": "code",
   "execution_count": 74,
   "id": "3e453dd7",
   "metadata": {},
   "outputs": [
    {
     "name": "stdout",
     "output_type": "stream",
     "text": [
      "{10, 20, 30}\n"
     ]
    }
   ],
   "source": [
    "s={10,10,20,30,30,30}\n",
    "print(s)\n",
    "#set cant store same value it will perform union"
   ]
  },
  {
   "cell_type": "code",
   "execution_count": 75,
   "id": "da363dd9",
   "metadata": {},
   "outputs": [
    {
     "name": "stdout",
     "output_type": "stream",
     "text": [
      "(10, 20, 20, 30, 30)\n"
     ]
    }
   ],
   "source": [
    "t=(10,20,20,30,30)\n",
    "print(t)\n",
    "#tuple can store same values also"
   ]
  },
  {
   "cell_type": "code",
   "execution_count": 78,
   "id": "1e05713c",
   "metadata": {},
   "outputs": [
    {
     "name": "stdout",
     "output_type": "stream",
     "text": [
      "{1, 4}\n"
     ]
    }
   ],
   "source": [
    "a={1,2,3,4}\n",
    "b={2,3}\n",
    "print(a-b) #set"
   ]
  },
  {
   "cell_type": "code",
   "execution_count": 79,
   "id": "8db3f947",
   "metadata": {},
   "outputs": [
    {
     "data": {
      "text/plain": [
       "0"
      ]
     },
     "execution_count": 79,
     "metadata": {},
     "output_type": "execute_result"
    }
   ],
   "source": [
    "int('0')"
   ]
  },
  {
   "cell_type": "code",
   "execution_count": 80,
   "id": "85f6188e",
   "metadata": {},
   "outputs": [
    {
     "ename": "ValueError",
     "evalue": "invalid literal for int() with base 10: '10p'",
     "output_type": "error",
     "traceback": [
      "\u001b[1;31m---------------------------------------------------------------------------\u001b[0m",
      "\u001b[1;31mValueError\u001b[0m                                Traceback (most recent call last)",
      "Cell \u001b[1;32mIn[80], line 1\u001b[0m\n\u001b[1;32m----> 1\u001b[0m \u001b[38;5;28mint\u001b[39m(\u001b[38;5;124m'\u001b[39m\u001b[38;5;124m10p\u001b[39m\u001b[38;5;124m'\u001b[39m)\n",
      "\u001b[1;31mValueError\u001b[0m: invalid literal for int() with base 10: '10p'"
     ]
    }
   ],
   "source": [
    "int('10p')"
   ]
  },
  {
   "cell_type": "code",
   "execution_count": 84,
   "id": "6306fb29",
   "metadata": {},
   "outputs": [
    {
     "name": "stdout",
     "output_type": "stream",
     "text": [
      "congratulations,ayush!.You just wrote 100 words\n"
     ]
    }
   ],
   "source": [
    "user=\"ayush\"\n",
    "lines=100\n",
    "print(\"congratulations,\"+user+\"!.You just wrote \"+str(lines)+\" words\")"
   ]
  },
  {
   "cell_type": "code",
   "execution_count": 89,
   "id": "3f7e7263",
   "metadata": {},
   "outputs": [
    {
     "ename": "TypeError",
     "evalue": "'str' object does not support item assignment",
     "output_type": "error",
     "traceback": [
      "\u001b[1;31m---------------------------------------------------------------------------\u001b[0m",
      "\u001b[1;31mTypeError\u001b[0m                                 Traceback (most recent call last)",
      "Cell \u001b[1;32mIn[89], line 2\u001b[0m\n\u001b[0;32m      1\u001b[0m s\u001b[38;5;241m=\u001b[39m\u001b[38;5;124m\"\u001b[39m\u001b[38;5;124mnihar\u001b[39m\u001b[38;5;124m\"\u001b[39m\n\u001b[1;32m----> 2\u001b[0m s[\u001b[38;5;241m0\u001b[39m]\u001b[38;5;241m=\u001b[39m\u001b[38;5;124m'\u001b[39m\u001b[38;5;124mb\u001b[39m\u001b[38;5;124m'\u001b[39m\n\u001b[0;32m      3\u001b[0m \u001b[38;5;28mprint\u001b[39m(s)\n",
      "\u001b[1;31mTypeError\u001b[0m: 'str' object does not support item assignment"
     ]
    }
   ],
   "source": [
    "s=\"nihar\"\n",
    "s[0]='b'\n",
    "print(s)\n"
   ]
  },
  {
   "cell_type": "code",
   "execution_count": 10,
   "id": "03df7513",
   "metadata": {},
   "outputs": [
    {
     "name": "stdout",
     "output_type": "stream",
     "text": [
      "{'a': 'apple', 'b': 'bat', 'c': 'cat', 12: 'hello'}\n",
      "bat\n",
      "hello\n",
      "apple\n"
     ]
    }
   ],
   "source": [
    "#dictionary\n",
    "#it is an unordered collection of key values pairs\n",
    "d={'a':\"apple\",'b':\"bat\",'c':\"cat\",12:\"hello\"}\n",
    "print(d)\n",
    "print(d['b'])\n",
    "print(d[12])\n",
    "print(d['a'])"
   ]
  },
  {
   "cell_type": "code",
   "execution_count": 20,
   "id": "1968d6ad",
   "metadata": {},
   "outputs": [
    {
     "name": "stdout",
     "output_type": "stream",
     "text": [
      "18\n"
     ]
    }
   ],
   "source": [
    "#LOOPS\n",
    "l=[5,6,7]\n",
    "j=0\n",
    "for i in l:\n",
    "    j=j+i\n",
    "print(j)\n"
   ]
  },
  {
   "cell_type": "code",
   "execution_count": 14,
   "id": "1b13cf81",
   "metadata": {},
   "outputs": [
    {
     "name": "stdout",
     "output_type": "stream",
     "text": [
      "22\n"
     ]
    }
   ],
   "source": [
    "l=[5,6,4,2,10,7,13]\n",
    "j=0\n",
    "for i in l:\n",
    "    if i%2==0:\n",
    "        j=j+i\n",
    "print(j)        "
   ]
  },
  {
   "cell_type": "code",
   "execution_count": 15,
   "id": "b89ec8b8",
   "metadata": {},
   "outputs": [
    {
     "data": {
      "text/plain": [
       "dict_values(['apple', 'bat', 'cat', 'hello'])"
      ]
     },
     "execution_count": 15,
     "metadata": {},
     "output_type": "execute_result"
    }
   ],
   "source": [
    "d.values()"
   ]
  },
  {
   "cell_type": "code",
   "execution_count": 16,
   "id": "ec97fb2d",
   "metadata": {},
   "outputs": [
    {
     "data": {
      "text/plain": [
       "dict_keys(['a', 'b', 'c', 12])"
      ]
     },
     "execution_count": 16,
     "metadata": {},
     "output_type": "execute_result"
    }
   ],
   "source": [
    "d.keys()"
   ]
  },
  {
   "cell_type": "code",
   "execution_count": 18,
   "id": "887dee2e",
   "metadata": {},
   "outputs": [
    {
     "name": "stdout",
     "output_type": "stream",
     "text": [
      "50\n"
     ]
    }
   ],
   "source": [
    "d[\"x\"]=50\n",
    "print(d['x'])"
   ]
  },
  {
   "cell_type": "code",
   "execution_count": 27,
   "id": "0237189f",
   "metadata": {},
   "outputs": [
    {
     "name": "stdout",
     "output_type": "stream",
     "text": [
      "{'milk': 30, 'pen': 20, 'book': 20, 'ice': 70}\n"
     ]
    }
   ],
   "source": [
    "d1={'milk':30,'pen':10}\n",
    "d2={'book':20,'pen':10,'ice':70}\n",
    "for k in d2.keys():\n",
    "    if k in d1.keys():\n",
    "        d1[k]=d1[k]+d2[k]\n",
    "    else:\n",
    "        d1[k]=d2[k]\n",
    "print(d1)\n"
   ]
  },
  {
   "cell_type": "code",
   "execution_count": 28,
   "id": "ac74f8bc",
   "metadata": {},
   "outputs": [
    {
     "name": "stdout",
     "output_type": "stream",
     "text": [
      "{'a': 0, 'e': 4, 'i': 4, 'o': 7, 'u': 2}\n"
     ]
    }
   ],
   "source": [
    "x=\"this is on going pyhton lecture on jupiter notebook\"\n",
    "v=\"aeiou\"\n",
    "d={}\n",
    "for i in v:\n",
    "    d[i]=x.count(i)\n",
    "print(d)"
   ]
  },
  {
   "cell_type": "code",
   "execution_count": null,
   "id": "531ed38c",
   "metadata": {},
   "outputs": [],
   "source": []
  }
 ],
 "metadata": {
  "kernelspec": {
   "display_name": "Python 3 (ipykernel)",
   "language": "python",
   "name": "python3"
  },
  "language_info": {
   "codemirror_mode": {
    "name": "ipython",
    "version": 3
   },
   "file_extension": ".py",
   "mimetype": "text/x-python",
   "name": "python",
   "nbconvert_exporter": "python",
   "pygments_lexer": "ipython3",
   "version": "3.11.5"
  }
 },
 "nbformat": 4,
 "nbformat_minor": 5
}
