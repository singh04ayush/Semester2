{
 "cells": [
  {
   "cell_type": "markdown",
   "id": "53144c42",
   "metadata": {},
   "source": [
    "open using open() deafult read mode\n",
    "write using write()\n",
    "close the file using close()\n",
    "\n",
    "\n",
    "how to open?\n",
    "i) create txt file in workspace and store data \n",
    "ii) f = open(\"abc.txt\")\n",
    "   /handler\n",
    "            if the file is not present program will terminate that why use inside try block\n",
    "            \n",
    "try:\n",
    "    f=open(\"abc.txt)\n",
    "except:\n",
    "    print('file not found')\n",
    "    \n",
    "iii) for reading the data in file\n",
    "\n",
    "f.read()  \n",
    "            "
   ]
  },
  {
   "cell_type": "code",
   "execution_count": null,
   "id": "913b15c3",
   "metadata": {},
   "outputs": [],
   "source": []
  },
  {
   "cell_type": "code",
   "execution_count": 39,
   "id": "0d48929a",
   "metadata": {},
   "outputs": [
    {
     "data": {
      "text/plain": [
       "'my name is ayush singh\\nhello guys'"
      ]
     },
     "execution_count": 39,
     "metadata": {},
     "output_type": "execute_result"
    }
   ],
   "source": [
    "try:\n",
    "    f=open('ayush.txt')\n",
    "except:\n",
    "    print(\"file not found\")\n",
    "f.read()"
   ]
  },
  {
   "cell_type": "code",
   "execution_count": 40,
   "id": "f307ce6e",
   "metadata": {},
   "outputs": [],
   "source": [
    "try:\n",
    "    f=open('ayush.txt', 'w')\n",
    "except:\n",
    "    print(\"file not found\")\n",
    "f.write(\"hello file\\n\")\n",
    "f.write(\"sharda unversity\")\n",
    "f.close()"
   ]
  },
  {
   "cell_type": "code",
   "execution_count": 41,
   "id": "4d03ae02",
   "metadata": {},
   "outputs": [
    {
     "data": {
      "text/plain": [
       "'hello file\\nsharda unversity'"
      ]
     },
     "execution_count": 41,
     "metadata": {},
     "output_type": "execute_result"
    }
   ],
   "source": [
    "f=open(\"ayush.txt\",'r')\n",
    "f.read()"
   ]
  },
  {
   "cell_type": "code",
   "execution_count": null,
   "id": "e4b6a20e",
   "metadata": {},
   "outputs": [],
   "source": [
    "Q1)"
   ]
  },
  {
   "cell_type": "code",
   "execution_count": 45,
   "id": "13d24449",
   "metadata": {},
   "outputs": [],
   "source": [
    "try:\n",
    "    f=open(\"singhayush.txt\",'w')\n",
    "except:\n",
    "    print(\"file not created\")\n",
    "f.write(\"Name=AYUSH SINGH\\nAGE=19\\nClass=CS-C G2\")\n",
    "f.close()"
   ]
  },
  {
   "cell_type": "code",
   "execution_count": null,
   "id": "03d7b375",
   "metadata": {},
   "outputs": [],
   "source": []
  },
  {
   "cell_type": "code",
   "execution_count": null,
   "id": "b3b2b69e",
   "metadata": {},
   "outputs": [],
   "source": []
  },
  {
   "cell_type": "code",
   "execution_count": 62,
   "id": "69f3c44a",
   "metadata": {},
   "outputs": [],
   "source": [
    "f=open('ayush.txt','w')\n",
    "f.tell()\n",
    "f.write(\"yo boys whats up\")\n",
    "f.tell()\n",
    "f.write(\"12345\")\n",
    "f.tell()\n",
    "f.seek(0)\n",
    "f.write('new')\n",
    "f.tell()\n",
    "f.close()"
   ]
  },
  {
   "cell_type": "code",
   "execution_count": 60,
   "id": "5207d0f9",
   "metadata": {},
   "outputs": [
    {
     "name": "stdout",
     "output_type": "stream",
     "text": [
      "newboys whats up12345\n"
     ]
    }
   ],
   "source": [
    "f=open(\"ayush.txt\",'r')\n",
    "print(f.read())"
   ]
  },
  {
   "cell_type": "code",
   "execution_count": null,
   "id": "694b5318",
   "metadata": {},
   "outputs": [],
   "source": []
  }
 ],
 "metadata": {
  "kernelspec": {
   "display_name": "Python 3 (ipykernel)",
   "language": "python",
   "name": "python3"
  },
  "language_info": {
   "codemirror_mode": {
    "name": "ipython",
    "version": 3
   },
   "file_extension": ".py",
   "mimetype": "text/x-python",
   "name": "python",
   "nbconvert_exporter": "python",
   "pygments_lexer": "ipython3",
   "version": "3.11.5"
  }
 },
 "nbformat": 4,
 "nbformat_minor": 5
}
